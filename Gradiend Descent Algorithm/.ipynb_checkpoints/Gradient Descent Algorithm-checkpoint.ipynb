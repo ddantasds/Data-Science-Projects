{
 "cells": [
  {
   "cell_type": "markdown",
   "metadata": {},
   "source": [
    "# Gradient Descent Algorithm\n",
    "\n",
    "The idea is to implement algorithm to estimate parameters by minimizing a cost function using the gradient descent algorithm.\n",
    "\n",
    "First let's implement for a simple linear regression:\n",
    "\\begin{align}\n",
    "\\ y_i = \\alpha + \\beta*x_i\n",
    "\\end{align}\n",
    "\n",
    "Cost Function:\n",
    "\n",
    "\\begin{align}\n",
    "\\ J = \\frac{1}{n}\\sum_{i=1}^n[y_i - (\\alpha + \\beta*x_i)]^2\n",
    "\\end{align}\n",
    "\n",
    "\n",
    "Gradient:\n",
    "\\begin{align}\n",
    "\\ \\nabla J(\\alpha,\\beta) = (\\frac{dE}{d\\alpha},\\frac{dE}{d\\beta})\n",
    "\\end{align}\n",
    "\n",
    "\\begin{align}\n",
    "\\ \\frac{dJ}{d\\alpha} = \\frac{2}{n}[\\sum_{i=1}^n(-y_i) + n\\alpha + \\beta\\sum_{i=1}^nx_i]\n",
    "\\end{align}\n",
    "\n",
    "\\begin{align}\n",
    "\\ \\frac{dJ}{d\\beta} = \\frac{2}{n}[\\sum_{i=1}^n(-y_i*x_i) + \\alpha\\sum_{i=1}^nx_i + \\beta\\sum_{i=1}^nx_i^2]\n",
    "\\end{align}"
   ]
  },
  {
   "cell_type": "code",
   "execution_count": 24,
   "metadata": {},
   "outputs": [],
   "source": [
    "# Create function to calculate the gradient for a given alpha and beta\n",
    "grad <- function(y,x,alpha,beta){\n",
    "    n = length(x)\n",
    "    d_alpha = (2/n)*(sum(-y)+n*alpha+beta*sum(x))\n",
    "    d_beta = (2/n)*(sum(-x*y)+alpha*sum(x)+beta*sum(x^2))\n",
    "    return(list(alpha=d_alpha,beta=d_beta))\n",
    "}"
   ]
  },
  {
   "cell_type": "code",
   "execution_count": 17,
   "metadata": {
    "collapsed": true
   },
   "outputs": [],
   "source": [
    "x<-rnorm(100,0,1)\n",
    "y<-rnorm(100,0,1)"
   ]
  },
  {
   "cell_type": "code",
   "execution_count": 18,
   "metadata": {},
   "outputs": [
    {
     "data": {
      "text/html": [
       "<ol class=list-inline>\n",
       "\t<li>-0.359416691084408</li>\n",
       "\t<li>-0.223053048258107</li>\n",
       "</ol>\n"
      ],
      "text/latex": [
       "\\begin{enumerate*}\n",
       "\\item -0.359416691084408\n",
       "\\item -0.223053048258107\n",
       "\\end{enumerate*}\n"
      ],
      "text/markdown": [
       "1. -0.359416691084408\n",
       "2. -0.223053048258107\n",
       "\n",
       "\n"
      ],
      "text/plain": [
       "[1] -0.3594167 -0.2230530"
      ]
     },
     "metadata": {},
     "output_type": "display_data"
    }
   ],
   "source": [
    "grad(y,x,0,0)"
   ]
  },
  {
   "cell_type": "code",
   "execution_count": 25,
   "metadata": {},
   "outputs": [
    {
     "data": {
      "text/html": [
       "<dl>\n",
       "\t<dt>$alpha</dt>\n",
       "\t\t<dd>-0.359416691084408</dd>\n",
       "\t<dt>$beta</dt>\n",
       "\t\t<dd>-0.223053048258107</dd>\n",
       "</dl>\n"
      ],
      "text/latex": [
       "\\begin{description}\n",
       "\\item[\\$alpha] -0.359416691084408\n",
       "\\item[\\$beta] -0.223053048258107\n",
       "\\end{description}\n"
      ],
      "text/markdown": [
       "$alpha\n",
       ":   -0.359416691084408\n",
       "$beta\n",
       ":   -0.223053048258107\n",
       "\n",
       "\n"
      ],
      "text/plain": [
       "$alpha\n",
       "[1] -0.3594167\n",
       "\n",
       "$beta\n",
       "[1] -0.223053\n"
      ]
     },
     "metadata": {},
     "output_type": "display_data"
    }
   ],
   "source": [
    "grad(y,x,intial_parameters$alpha,intial_parameters$beta)"
   ]
  },
  {
   "cell_type": "code",
   "execution_count": 58,
   "metadata": {
    "collapsed": true
   },
   "outputs": [],
   "source": [
    "result<-grad(y,x,intial_parameters$alpha,intial_parameters$beta)"
   ]
  },
  {
   "cell_type": "code",
   "execution_count": 59,
   "metadata": {},
   "outputs": [
    {
     "data": {
      "text/html": [
       "<dl>\n",
       "\t<dt>$alpha</dt>\n",
       "\t\t<dd>-0.294441873764657</dd>\n",
       "\t<dt>$beta</dt>\n",
       "\t\t<dd>-0.189333567183582</dd>\n",
       "</dl>\n"
      ],
      "text/latex": [
       "\\begin{description}\n",
       "\\item[\\$alpha] -0.294441873764657\n",
       "\\item[\\$beta] -0.189333567183582\n",
       "\\end{description}\n"
      ],
      "text/markdown": [
       "$alpha\n",
       ":   -0.294441873764657\n",
       "$beta\n",
       ":   -0.189333567183582\n",
       "\n",
       "\n"
      ],
      "text/plain": [
       "$alpha\n",
       "[1] -0.2944419\n",
       "\n",
       "$beta\n",
       "[1] -0.1893336\n"
      ]
     },
     "metadata": {},
     "output_type": "display_data"
    }
   ],
   "source": [
    "result"
   ]
  },
  {
   "cell_type": "code",
   "execution_count": 57,
   "metadata": {},
   "outputs": [],
   "source": [
    "result<-grad(y,x,intial_parameters$alpha,intial_parameters$beta)\n",
    "intial_parameters$alpha = intial_parameters$alpha-learning_rate*result$alpha\n",
    "intial_parameters$beta = intial_parameters$beta-learning_rate*result$beta"
   ]
  },
  {
   "cell_type": "code",
   "execution_count": 77,
   "metadata": {},
   "outputs": [],
   "source": [
    "# Cost function\n",
    "cost <- function(y,x,alpha,beta){\n",
    "    n = length(x)\n",
    "    (1/n)*sum((y - (alpha+x*beta))^2)\n",
    "}"
   ]
  },
  {
   "cell_type": "code",
   "execution_count": 63,
   "metadata": {
    "collapsed": true
   },
   "outputs": [],
   "source": [
    "# Function to estimate the parameters for a simple linear Regression\n",
    "\n",
    "#intial_parameters<-list(alpha=0,beta=0)\n",
    "#learning_rate<-0.01\n",
    "estimate<-function(y,x,intial_parameters=list(alpha=0,beta=0),learning_rate,conv){\n",
    "    diff=1\n",
    "    while(diff>conv){\n",
    "        result<-grad(y,x,intial_parameters$alpha,intial_parameters$beta)\n",
    "        diff=cost(y,x,intial_parameters$alpha,intial_parameters$beta)-cost(y,x,result$alpha,result$beta)\n",
    "        intial_parameters = result\n",
    "    }   \n",
    "}"
   ]
  },
  {
   "cell_type": "code",
   "execution_count": 127,
   "metadata": {},
   "outputs": [],
   "source": [
    "estimate<-function(y,x,initial_parameters=list(alpha=0,beta=0),learning_rate,maxit=1000,conv=0.001){\n",
    "    for(i in 1:maxit){\n",
    "        result<-grad(y,x,initial_parameters$alpha,initial_parameters$beta)\n",
    "        new_alpha = initial_parameters$alpha - learning_rate*result$alpha\n",
    "        new_beta = initial_parameters$beta - learning_rate*result$beta\n",
    "        diff=cost(y,x,initial_parameters$alpha,initial_parameters$beta)-cost(y,x,new_alpha,new_beta)\n",
    "        initial_parameters = list(alpha=new_alpha,beta=new_beta)\n",
    "        #print(diff)\n",
    "        if(abs(diff)<=conv){\n",
    "            print(\"Converged\")\n",
    "            break\n",
    "        }\n",
    "    }\n",
    "    return(list(parameters=list(alpha=new_alpha,beta=new_beta),interations=i,difference=diff))\n",
    "}"
   ]
  },
  {
   "cell_type": "code",
   "execution_count": 67,
   "metadata": {
    "collapsed": true
   },
   "outputs": [],
   "source": [
    "x<-runif(100,0,10)\n",
    "y<-3.2-1.7*x+rnorm(length(x),0,1)"
   ]
  },
  {
   "cell_type": "code",
   "execution_count": 155,
   "metadata": {},
   "outputs": [],
   "source": [
    "test<-estimate(y,x,initial_parameters=list(alpha=0,beta=0),learning_rate=0.01,maxit=3000,conv=10e-15)"
   ]
  },
  {
   "cell_type": "code",
   "execution_count": 156,
   "metadata": {},
   "outputs": [
    {
     "data": {
      "text/html": [
       "<dl>\n",
       "\t<dt>$alpha</dt>\n",
       "\t\t<dd>3.03264040668718</dd>\n",
       "\t<dt>$beta</dt>\n",
       "\t\t<dd>-1.66844419969237</dd>\n",
       "</dl>\n"
      ],
      "text/latex": [
       "\\begin{description}\n",
       "\\item[\\$alpha] 3.03264040668718\n",
       "\\item[\\$beta] -1.66844419969237\n",
       "\\end{description}\n"
      ],
      "text/markdown": [
       "$alpha\n",
       ":   3.03264040668718\n",
       "$beta\n",
       ":   -1.66844419969237\n",
       "\n",
       "\n"
      ],
      "text/plain": [
       "$alpha\n",
       "[1] 3.03264\n",
       "\n",
       "$beta\n",
       "[1] -1.668444\n"
      ]
     },
     "metadata": {},
     "output_type": "display_data"
    }
   ],
   "source": [
    "test$parameters"
   ]
  },
  {
   "cell_type": "code",
   "execution_count": 157,
   "metadata": {},
   "outputs": [
    {
     "data": {
      "text/html": [
       "3000"
      ],
      "text/latex": [
       "3000"
      ],
      "text/markdown": [
       "3000"
      ],
      "text/plain": [
       "[1] 3000"
      ]
     },
     "metadata": {},
     "output_type": "display_data"
    }
   ],
   "source": [
    "test$interations"
   ]
  },
  {
   "cell_type": "code",
   "execution_count": null,
   "metadata": {
    "collapsed": true
   },
   "outputs": [],
   "source": []
  }
 ],
 "metadata": {
  "kernelspec": {
   "display_name": "R",
   "language": "R",
   "name": "ir"
  },
  "language_info": {
   "codemirror_mode": "r",
   "file_extension": ".r",
   "mimetype": "text/x-r-source",
   "name": "R",
   "pygments_lexer": "r",
   "version": "3.4.2"
  }
 },
 "nbformat": 4,
 "nbformat_minor": 2
}

{
 "cells": [
  {
   "cell_type": "markdown",
   "metadata": {},
   "source": [
    "# Gradient Descent Algorithm\n",
    "\n",
    "The idea is to implement algorithm to estimate parameters by minimizing a cost function using the gradient descent algorithm.\n",
    "\n",
    "First let's implement for a simple linear regression:\n",
    "\\begin{align}\n",
    "\\ y_i = \\alpha + \\beta*x_i\n",
    "\\end{align}\n",
    "\n",
    "Cost Function:\n",
    "\n",
    "\\begin{align}\n",
    "\\ J = \\frac{1}{n}\\sum_{i=1}^n[y_i - (\\alpha + \\beta*x_i)]^2\n",
    "\\end{align}\n",
    "\n",
    "\n",
    "Gradient:\n",
    "\\begin{align}\n",
    "\\ \\nabla J(\\alpha,\\beta) = (\\frac{dJ}{d\\alpha},\\frac{dJ}{d\\beta})\n",
    "\\end{align}\n",
    "\n",
    "\\begin{align}\n",
    "\\ \\frac{dJ}{d\\alpha} = \\frac{2}{n}[\\sum_{i=1}^n(-y_i) + n\\alpha + \\beta\\sum_{i=1}^nx_i]\n",
    "\\end{align}\n",
    "\n",
    "\\begin{align}\n",
    "\\ \\frac{dJ}{d\\beta} = \\frac{2}{n}[\\sum_{i=1}^n(-y_i*x_i) + \\alpha\\sum_{i=1}^nx_i + \\beta\\sum_{i=1}^nx_i^2]\n",
    "\\end{align}"
   ]
  },
  {
   "cell_type": "code",
   "execution_count": 9,
   "metadata": {
    "collapsed": true
   },
   "outputs": [],
   "source": [
    "# Create function to calculate the gradient for a given alpha and beta\n",
    "grad <- function(y,x,alpha,beta){\n",
    "    n = length(x)\n",
    "    d_alpha = (2/n)*(sum(-y)+n*alpha+beta*sum(x))\n",
    "    d_beta = (2/n)*(sum(-x*y)+alpha*sum(x)+beta*sum(x^2))\n",
    "    return(list(alpha=d_alpha,beta=d_beta))\n",
    "}"
   ]
  },
  {
   "cell_type": "code",
   "execution_count": 10,
   "metadata": {
    "collapsed": true
   },
   "outputs": [],
   "source": [
    "# Cost function\n",
    "cost <- function(y,x,alpha,beta){\n",
    "    n = length(x)\n",
    "    (1/n)*sum((y - (alpha+x*beta))^2)\n",
    "}"
   ]
  },
  {
   "cell_type": "code",
   "execution_count": 12,
   "metadata": {
    "collapsed": true
   },
   "outputs": [],
   "source": [
    "estimate<-function(y,x,initial_parameters=list(alpha=0,beta=0),learning_rate,maxit=1000,conv=0.001){\n",
    "    for(i in 1:maxit){\n",
    "        result<-grad(y,x,initial_parameters$alpha,initial_parameters$beta)\n",
    "        new_alpha = initial_parameters$alpha - learning_rate*result$alpha\n",
    "        new_beta = initial_parameters$beta - learning_rate*result$beta\n",
    "        diff=cost(y,x,initial_parameters$alpha,initial_parameters$beta)-cost(y,x,new_alpha,new_beta)\n",
    "        initial_parameters = list(alpha=new_alpha,beta=new_beta)\n",
    "        #print(diff)\n",
    "        if(abs(diff)<=conv){\n",
    "            print(\"Converged\")\n",
    "            break\n",
    "        }\n",
    "    }\n",
    "    return(list(parameters=list(alpha=new_alpha,beta=new_beta),interations=i,difference=diff))\n",
    "}"
   ]
  },
  {
   "cell_type": "code",
   "execution_count": 13,
   "metadata": {
    "collapsed": true
   },
   "outputs": [],
   "source": [
    "x<-runif(100,0,10)\n",
    "y<-3.2-1.7*x+rnorm(length(x),0,1)"
   ]
  },
  {
   "cell_type": "code",
   "execution_count": 15,
   "metadata": {},
   "outputs": [
    {
     "data": {
      "image/png": "[encoded data removed]",
      "text/plain": [
       "plot without title"
      ]
     },
     "metadata": {},
     "output_type": "display_data"
    }
   ],
   "source": [
    "plot(x,y)"
   ]
  },
  {
   "cell_type": "code",
   "execution_count": 16,
   "metadata": {},
   "outputs": [
    {
     "name": "stdout",
     "output_type": "stream",
     "text": [
      "[1] \"Converged\"\n"
     ]
    }
   ],
   "source": [
    "test<-estimate(y,x,initial_parameters=list(alpha=0,beta=0),learning_rate=0.01,maxit=3000,conv=10e-15)"
   ]
  },
  {
   "cell_type": "code",
   "execution_count": 17,
   "metadata": {},
   "outputs": [
    {
     "data": {
      "text/html": [
       "<dl>\n",
       "\t<dt>$alpha</dt>\n",
       "\t\t<dd>2.80197845249448</dd>\n",
       "\t<dt>$beta</dt>\n",
       "\t\t<dd>-1.61108886707038</dd>\n",
       "</dl>\n"
      ],
      "text/latex": [
       "\\begin{description}\n",
       "\\item[\\$alpha] 2.80197845249448\n",
       "\\item[\\$beta] -1.61108886707038\n",
       "\\end{description}\n"
      ],
      "text/markdown": [
       "$alpha\n",
       ":   2.80197845249448\n",
       "$beta\n",
       ":   -1.61108886707038\n",
       "\n",
       "\n"
      ],
      "text/plain": [
       "$alpha\n",
       "[1] 2.801978\n",
       "\n",
       "$beta\n",
       "[1] -1.611089\n"
      ]
     },
     "metadata": {},
     "output_type": "display_data"
    }
   ],
   "source": [
    "test$parameters"
   ]
  },
  {
   "cell_type": "code",
   "execution_count": 8,
   "metadata": {},
   "outputs": [
    {
     "data": {
      "text/html": [
       "3000"
      ],
      "text/latex": [
       "3000"
      ],
      "text/markdown": [
       "3000"
      ],
      "text/plain": [
       "[1] 3000"
      ]
     },
     "metadata": {},
     "output_type": "display_data"
    }
   ],
   "source": [
    "test$interations"
   ]
  },
  {
   "cell_type": "code",
   "execution_count": 170,
   "metadata": {},
   "outputs": [
    {
     "data": {
      "text/plain": [
       "\n",
       "Call:\n",
       "lm(formula = y ~ x)\n",
       "\n",
       "Residuals:\n",
       "     Min       1Q   Median       3Q      Max \n",
       "-1.97955 -0.75794 -0.03749  0.77573  3.04354 \n",
       "\n",
       "Coefficients:\n",
       "            Estimate Std. Error t value Pr(>|t|)    \n",
       "(Intercept)  3.11786    0.21552   14.47   <2e-16 ***\n",
       "x           -1.71886    0.03865  -44.48   <2e-16 ***\n",
       "---\n",
       "Signif. codes:  0 ‘***’ 0.001 ‘**’ 0.01 ‘*’ 0.05 ‘.’ 0.1 ‘ ’ 1\n",
       "\n",
       "Residual standard error: 1.08 on 98 degrees of freedom\n",
       "Multiple R-squared:  0.9528,\tAdjusted R-squared:  0.9523 \n",
       "F-statistic:  1978 on 1 and 98 DF,  p-value: < 2.2e-16\n"
      ]
     },
     "metadata": {},
     "output_type": "display_data"
    }
   ],
   "source": [
    "summary(lm(y~x))"
   ]
  },
  {
   "cell_type": "code",
   "execution_count": null,
   "metadata": {
    "collapsed": true
   },
   "outputs": [],
   "source": []
  }
 ],
 "metadata": {
  "kernelspec": {
   "display_name": "R",
   "language": "R",
   "name": "ir"
  },
  "language_info": {
   "codemirror_mode": "r",
   "file_extension": ".r",
   "mimetype": "text/x-r-source",
   "name": "R",
   "pygments_lexer": "r",
   "version": "3.4.3"
  }
 },
 "nbformat": 4,
 "nbformat_minor": 2
}

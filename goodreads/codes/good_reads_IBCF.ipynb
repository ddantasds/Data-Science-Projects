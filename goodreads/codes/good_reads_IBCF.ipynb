{
 "cells": [
  {
   "cell_type": "markdown",
   "metadata": {},
   "source": [
    "# Good Reads: Item-Based Collaborative Filtering"
   ]
  },
  {
   "cell_type": "markdown",
   "metadata": {},
   "source": [
    "![title](https://blog.tellwell.ca/wp-content/uploads/2016/12/goodreads.jpg)"
   ]
  },
  {
   "cell_type": "markdown",
   "metadata": {},
   "source": [
    "## Overview"
   ]
  },
  {
   "cell_type": "markdown",
   "metadata": {},
   "source": [
    "We cannot escape! If you use online services or buy anything from a e-commerce company, recommendation is part of your online routine. Online services are suggesting you products and services that you might like. It is everywhere. Netflix recommends shows/movies based on what you watched and recent demand. Amazon displays on your website products that you might be interested based on previous purchases, clicks, and user behavior. Youtube recommends videos and channels based on what you and others have watched. We could keep going and the idea would be the same: suggest something that you probably will enjoy.\n",
    "\n",
    "Books are not different!! The website [goodreads.com](http://www.goodreads.com) could be defined as a social network dedicated for people interested on books. The idea is that you can interact with other readers, authors, and of course books. Between many features, the readers social network provides a members review database to give you more information for the books you are looking for. It works excatly as any other review system. You rate the book you have read (between 1 and 5 stars) and write down your opinion about it, explaining what you like or don't. I know, nothing is new here. The [goodreads.com](http://www.goodreads.com) also have its recommender system for books. It will look for the books you read and the rates you gave to suggest you new books.\n",
    "\n",
    "In this notebook, I apply a very well known called **Item-Based Collaborative Filtering** (IBCF) technique to estimate the rate of books based on other similar books. The idea is simple, if I like a book (i.e., I rated it 5 stars) it is likely that I will also enjoy a very similar book to that one.\n",
    "\n",
    "This technique is not new and also there are other methodologies to estimate the rates. Here we are going to focus on the IBCF and see how it works when predicting books rating!!!"
   ]
  },
  {
   "cell_type": "markdown",
   "metadata": {},
   "source": [
    "## Loading and Cleaning data"
   ]
  },
  {
   "cell_type": "code",
   "execution_count": 2,
   "metadata": {
    "collapsed": true
   },
   "outputs": [],
   "source": [
    "# Display plot options\n",
    "options(repr.plot.width=5, repr.plot.height=3)\n",
    "\n",
    "# load necessary libraries\n",
    "library(dplyr)\n",
    "library(ggplot2)\n",
    "library(tidyr)"
   ]
  },
  {
   "cell_type": "markdown",
   "metadata": {},
   "source": [
    "The data is available at [Kaggle](https://www.kaggle.com/zygmunt/goodbooks-10k/data). Here we find a dataset with millions of ratings for 10k books. In this page we can also find a very good kernel about **User-Based Collaborative Filtering** (UBCF). The objective is the same, to improve the recommendations system but **UBCF** approach looks for similar users instead of books."
   ]
  },
  {
   "cell_type": "code",
   "execution_count": 14,
   "metadata": {
    "collapsed": true
   },
   "outputs": [],
   "source": [
    "ratings<-read.csv(\"~/project/pre_git/goodreads/data/ratings.csv\")\n",
    "books<-read.csv(\"~/project/pre_git/goodreads/data/books.csv\")"
   ]
  },
  {
   "cell_type": "markdown",
   "metadata": {},
   "source": [
    "For this application we are going to use 2 datasets:\n",
    "\n",
    "* **ratings**: Contains information about ratings. It is a simple dataset with only 3 variables: **book_id**, **user_id**, and **rating**. It is pretty straightforward. It represents the rate given from a user for a book.\n",
    "* **books**: This is dataset has more information. It contains different features for books such as **title**, **author name**, **year of publication**, **number of reviews**, and etc. "
   ]
  },
  {
   "cell_type": "code",
   "execution_count": 3,
   "metadata": {},
   "outputs": [
    {
     "data": {
      "text/html": [
       "<table>\n",
       "<thead><tr><th scope=col>id</th><th scope=col>book_id</th><th scope=col>best_book_id</th><th scope=col>work_id</th><th scope=col>books_count</th><th scope=col>isbn</th><th scope=col>isbn13</th><th scope=col>authors</th><th scope=col>original_publication_year</th><th scope=col>original_title</th><th scope=col>⋯</th><th scope=col>ratings_count</th><th scope=col>work_ratings_count</th><th scope=col>work_text_reviews_count</th><th scope=col>ratings_1</th><th scope=col>ratings_2</th><th scope=col>ratings_3</th><th scope=col>ratings_4</th><th scope=col>ratings_5</th><th scope=col>image_url</th><th scope=col>small_image_url</th></tr></thead>\n",
       "<tbody>\n",
       "\t<tr><td>1                                                          </td><td> 2767052                                                   </td><td> 2767052                                                   </td><td> 2792775                                                   </td><td> 272                                                       </td><td>439023483                                                  </td><td>9.780439e+12                                               </td><td>Suzanne Collins                                            </td><td>2008                                                       </td><td>The Hunger Games                                           </td><td>⋯                                                          </td><td>4780653                                                    </td><td>4942365                                                    </td><td>155254                                                     </td><td> 66715                                                     </td><td>127936                                                     </td><td>560092                                                     </td><td>1481305                                                    </td><td>2706317                                                    </td><td>https://images.gr-assets.com/books/1447303603m/2767052.jpg </td><td>https://images.gr-assets.com/books/1447303603s/2767052.jpg </td></tr>\n",
       "\t<tr><td>2                                                          </td><td>       3                                                   </td><td>       3                                                   </td><td> 4640799                                                   </td><td> 491                                                       </td><td>439554934                                                  </td><td>9.780440e+12                                               </td><td>J.K. Rowling, Mary GrandPré                                </td><td>1997                                                       </td><td>Harry Potter and the Philosopher's Stone                   </td><td>⋯                                                          </td><td>4602479                                                    </td><td>4800065                                                    </td><td> 75867                                                     </td><td> 75504                                                     </td><td>101676                                                     </td><td>455024                                                     </td><td>1156318                                                    </td><td>3011543                                                    </td><td>https://images.gr-assets.com/books/1474154022m/3.jpg       </td><td>https://images.gr-assets.com/books/1474154022s/3.jpg       </td></tr>\n",
       "\t<tr><td>3                                                          </td><td>   41865                                                   </td><td>   41865                                                   </td><td> 3212258                                                   </td><td> 226                                                       </td><td>316015849                                                  </td><td>9.780316e+12                                               </td><td>Stephenie Meyer                                            </td><td>2005                                                       </td><td>Twilight                                                   </td><td>⋯                                                          </td><td>3866839                                                    </td><td>3916824                                                    </td><td> 95009                                                     </td><td>456191                                                     </td><td>436802                                                     </td><td>793319                                                     </td><td> 875073                                                    </td><td>1355439                                                    </td><td>https://images.gr-assets.com/books/1361039443m/41865.jpg   </td><td>https://images.gr-assets.com/books/1361039443s/41865.jpg   </td></tr>\n",
       "\t<tr><td>4                                                          </td><td>    2657                                                   </td><td>    2657                                                   </td><td> 3275794                                                   </td><td> 487                                                       </td><td>61120081                                                   </td><td>9.780061e+12                                               </td><td>Harper Lee                                                 </td><td>1960                                                       </td><td>To Kill a Mockingbird                                      </td><td>⋯                                                          </td><td>3198671                                                    </td><td>3340896                                                    </td><td> 72586                                                     </td><td> 60427                                                     </td><td>117415                                                     </td><td>446835                                                     </td><td>1001952                                                    </td><td>1714267                                                    </td><td>https://images.gr-assets.com/books/1361975680m/2657.jpg    </td><td>https://images.gr-assets.com/books/1361975680s/2657.jpg    </td></tr>\n",
       "\t<tr><td>5                                                          </td><td>    4671                                                   </td><td>    4671                                                   </td><td>  245494                                                   </td><td>1356                                                       </td><td>743273567                                                  </td><td>9.780743e+12                                               </td><td>F. Scott Fitzgerald                                        </td><td>1925                                                       </td><td>The Great Gatsby                                           </td><td>⋯                                                          </td><td>2683664                                                    </td><td>2773745                                                    </td><td> 51992                                                     </td><td> 86236                                                     </td><td>197621                                                     </td><td>606158                                                     </td><td> 936012                                                    </td><td> 947718                                                    </td><td>https://images.gr-assets.com/books/1490528560m/4671.jpg    </td><td>https://images.gr-assets.com/books/1490528560s/4671.jpg    </td></tr>\n",
       "\t<tr><td>6                                                          </td><td>11870085                                                   </td><td>11870085                                                   </td><td>16827462                                                   </td><td> 226                                                       </td><td>525478817                                                  </td><td>9.780525e+12                                               </td><td>John Green                                                 </td><td>2012                                                       </td><td>The Fault in Our Stars                                     </td><td>⋯                                                          </td><td>2346404                                                    </td><td>2478609                                                    </td><td>140739                                                     </td><td> 47994                                                     </td><td> 92723                                                     </td><td>327550                                                     </td><td> 698471                                                    </td><td>1311871                                                    </td><td>https://images.gr-assets.com/books/1360206420m/11870085.jpg</td><td>https://images.gr-assets.com/books/1360206420s/11870085.jpg</td></tr>\n",
       "</tbody>\n",
       "</table>\n"
      ],
      "text/latex": [
       "\\begin{tabular}{r|lllllllllllllllllllllll}\n",
       " id & book\\_id & best\\_book\\_id & work\\_id & books\\_count & isbn & isbn13 & authors & original\\_publication\\_year & original\\_title & ⋯ & ratings\\_count & work\\_ratings\\_count & work\\_text\\_reviews\\_count & ratings\\_1 & ratings\\_2 & ratings\\_3 & ratings\\_4 & ratings\\_5 & image\\_url & small\\_image\\_url\\\\\n",
       "\\hline\n",
       "\t 1                                                           &  2767052                                                    &  2767052                                                    &  2792775                                                    &  272                                                        & 439023483                                                   & 9.780439e+12                                                & Suzanne Collins                                             & 2008                                                        & The Hunger Games                                            & ⋯                                                           & 4780653                                                     & 4942365                                                     & 155254                                                      &  66715                                                      & 127936                                                      & 560092                                                      & 1481305                                                     & 2706317                                                     & https://images.gr-assets.com/books/1447303603m/2767052.jpg  & https://images.gr-assets.com/books/1447303603s/2767052.jpg \\\\\n",
       "\t 2                                                           &        3                                                    &        3                                                    &  4640799                                                    &  491                                                        & 439554934                                                   & 9.780440e+12                                                & J.K. Rowling, Mary GrandPré                                 & 1997                                                        & Harry Potter and the Philosopher's Stone                    & ⋯                                                           & 4602479                                                     & 4800065                                                     &  75867                                                      &  75504                                                      & 101676                                                      & 455024                                                      & 1156318                                                     & 3011543                                                     & https://images.gr-assets.com/books/1474154022m/3.jpg        & https://images.gr-assets.com/books/1474154022s/3.jpg       \\\\\n",
       "\t 3                                                           &    41865                                                    &    41865                                                    &  3212258                                                    &  226                                                        & 316015849                                                   & 9.780316e+12                                                & Stephenie Meyer                                             & 2005                                                        & Twilight                                                    & ⋯                                                           & 3866839                                                     & 3916824                                                     &  95009                                                      & 456191                                                      & 436802                                                      & 793319                                                      &  875073                                                     & 1355439                                                     & https://images.gr-assets.com/books/1361039443m/41865.jpg    & https://images.gr-assets.com/books/1361039443s/41865.jpg   \\\\\n",
       "\t 4                                                           &     2657                                                    &     2657                                                    &  3275794                                                    &  487                                                        & 61120081                                                    & 9.780061e+12                                                & Harper Lee                                                  & 1960                                                        & To Kill a Mockingbird                                       & ⋯                                                           & 3198671                                                     & 3340896                                                     &  72586                                                      &  60427                                                      & 117415                                                      & 446835                                                      & 1001952                                                     & 1714267                                                     & https://images.gr-assets.com/books/1361975680m/2657.jpg     & https://images.gr-assets.com/books/1361975680s/2657.jpg    \\\\\n",
       "\t 5                                                           &     4671                                                    &     4671                                                    &   245494                                                    & 1356                                                        & 743273567                                                   & 9.780743e+12                                                & F. Scott Fitzgerald                                         & 1925                                                        & The Great Gatsby                                            & ⋯                                                           & 2683664                                                     & 2773745                                                     &  51992                                                      &  86236                                                      & 197621                                                      & 606158                                                      &  936012                                                     &  947718                                                     & https://images.gr-assets.com/books/1490528560m/4671.jpg     & https://images.gr-assets.com/books/1490528560s/4671.jpg    \\\\\n",
       "\t 6                                                           & 11870085                                                    & 11870085                                                    & 16827462                                                    &  226                                                        & 525478817                                                   & 9.780525e+12                                                & John Green                                                  & 2012                                                        & The Fault in Our Stars                                      & ⋯                                                           & 2346404                                                     & 2478609                                                     & 140739                                                      &  47994                                                      &  92723                                                      & 327550                                                      &  698471                                                     & 1311871                                                     & https://images.gr-assets.com/books/1360206420m/11870085.jpg & https://images.gr-assets.com/books/1360206420s/11870085.jpg\\\\\n",
       "\\end{tabular}\n"
      ],
      "text/markdown": [
       "\n",
       "id | book_id | best_book_id | work_id | books_count | isbn | isbn13 | authors | original_publication_year | original_title | ⋯ | ratings_count | work_ratings_count | work_text_reviews_count | ratings_1 | ratings_2 | ratings_3 | ratings_4 | ratings_5 | image_url | small_image_url | \n",
       "|---|---|---|---|---|---|\n",
       "| 1                                                           |  2767052                                                    |  2767052                                                    |  2792775                                                    |  272                                                        | 439023483                                                   | 9.780439e+12                                                | Suzanne Collins                                             | 2008                                                        | The Hunger Games                                            | ⋯                                                           | 4780653                                                     | 4942365                                                     | 155254                                                      |  66715                                                      | 127936                                                      | 560092                                                      | 1481305                                                     | 2706317                                                     | https://images.gr-assets.com/books/1447303603m/2767052.jpg  | https://images.gr-assets.com/books/1447303603s/2767052.jpg  | \n",
       "| 2                                                           |        3                                                    |        3                                                    |  4640799                                                    |  491                                                        | 439554934                                                   | 9.780440e+12                                                | J.K. Rowling, Mary GrandPré                                 | 1997                                                        | Harry Potter and the Philosopher's Stone                    | ⋯                                                           | 4602479                                                     | 4800065                                                     |  75867                                                      |  75504                                                      | 101676                                                      | 455024                                                      | 1156318                                                     | 3011543                                                     | https://images.gr-assets.com/books/1474154022m/3.jpg        | https://images.gr-assets.com/books/1474154022s/3.jpg        | \n",
       "| 3                                                           |    41865                                                    |    41865                                                    |  3212258                                                    |  226                                                        | 316015849                                                   | 9.780316e+12                                                | Stephenie Meyer                                             | 2005                                                        | Twilight                                                    | ⋯                                                           | 3866839                                                     | 3916824                                                     |  95009                                                      | 456191                                                      | 436802                                                      | 793319                                                      |  875073                                                     | 1355439                                                     | https://images.gr-assets.com/books/1361039443m/41865.jpg    | https://images.gr-assets.com/books/1361039443s/41865.jpg    | \n",
       "| 4                                                           |     2657                                                    |     2657                                                    |  3275794                                                    |  487                                                        | 61120081                                                    | 9.780061e+12                                                | Harper Lee                                                  | 1960                                                        | To Kill a Mockingbird                                       | ⋯                                                           | 3198671                                                     | 3340896                                                     |  72586                                                      |  60427                                                      | 117415                                                      | 446835                                                      | 1001952                                                     | 1714267                                                     | https://images.gr-assets.com/books/1361975680m/2657.jpg     | https://images.gr-assets.com/books/1361975680s/2657.jpg     | \n",
       "| 5                                                           |     4671                                                    |     4671                                                    |   245494                                                    | 1356                                                        | 743273567                                                   | 9.780743e+12                                                | F. Scott Fitzgerald                                         | 1925                                                        | The Great Gatsby                                            | ⋯                                                           | 2683664                                                     | 2773745                                                     |  51992                                                      |  86236                                                      | 197621                                                      | 606158                                                      |  936012                                                     |  947718                                                     | https://images.gr-assets.com/books/1490528560m/4671.jpg     | https://images.gr-assets.com/books/1490528560s/4671.jpg     | \n",
       "| 6                                                           | 11870085                                                    | 11870085                                                    | 16827462                                                    |  226                                                        | 525478817                                                   | 9.780525e+12                                                | John Green                                                  | 2012                                                        | The Fault in Our Stars                                      | ⋯                                                           | 2346404                                                     | 2478609                                                     | 140739                                                      |  47994                                                      |  92723                                                      | 327550                                                      |  698471                                                     | 1311871                                                     | https://images.gr-assets.com/books/1360206420m/11870085.jpg | https://images.gr-assets.com/books/1360206420s/11870085.jpg | \n",
       "\n",
       "\n"
      ],
      "text/plain": [
       "  id book_id  best_book_id work_id  books_count isbn      isbn13      \n",
       "1 1   2767052  2767052      2792775  272        439023483 9.780439e+12\n",
       "2 2         3        3      4640799  491        439554934 9.780440e+12\n",
       "3 3     41865    41865      3212258  226        316015849 9.780316e+12\n",
       "4 4      2657     2657      3275794  487        61120081  9.780061e+12\n",
       "5 5      4671     4671       245494 1356        743273567 9.780743e+12\n",
       "6 6  11870085 11870085     16827462  226        525478817 9.780525e+12\n",
       "  authors                     original_publication_year\n",
       "1 Suzanne Collins             2008                     \n",
       "2 J.K. Rowling, Mary GrandPré 1997                     \n",
       "3 Stephenie Meyer             2005                     \n",
       "4 Harper Lee                  1960                     \n",
       "5 F. Scott Fitzgerald         1925                     \n",
       "6 John Green                  2012                     \n",
       "  original_title                           ⋯ ratings_count work_ratings_count\n",
       "1 The Hunger Games                         ⋯ 4780653       4942365           \n",
       "2 Harry Potter and the Philosopher's Stone ⋯ 4602479       4800065           \n",
       "3 Twilight                                 ⋯ 3866839       3916824           \n",
       "4 To Kill a Mockingbird                    ⋯ 3198671       3340896           \n",
       "5 The Great Gatsby                         ⋯ 2683664       2773745           \n",
       "6 The Fault in Our Stars                   ⋯ 2346404       2478609           \n",
       "  work_text_reviews_count ratings_1 ratings_2 ratings_3 ratings_4 ratings_5\n",
       "1 155254                   66715    127936    560092    1481305   2706317  \n",
       "2  75867                   75504    101676    455024    1156318   3011543  \n",
       "3  95009                  456191    436802    793319     875073   1355439  \n",
       "4  72586                   60427    117415    446835    1001952   1714267  \n",
       "5  51992                   86236    197621    606158     936012    947718  \n",
       "6 140739                   47994     92723    327550     698471   1311871  \n",
       "  image_url                                                  \n",
       "1 https://images.gr-assets.com/books/1447303603m/2767052.jpg \n",
       "2 https://images.gr-assets.com/books/1474154022m/3.jpg       \n",
       "3 https://images.gr-assets.com/books/1361039443m/41865.jpg   \n",
       "4 https://images.gr-assets.com/books/1361975680m/2657.jpg    \n",
       "5 https://images.gr-assets.com/books/1490528560m/4671.jpg    \n",
       "6 https://images.gr-assets.com/books/1360206420m/11870085.jpg\n",
       "  small_image_url                                            \n",
       "1 https://images.gr-assets.com/books/1447303603s/2767052.jpg \n",
       "2 https://images.gr-assets.com/books/1474154022s/3.jpg       \n",
       "3 https://images.gr-assets.com/books/1361039443s/41865.jpg   \n",
       "4 https://images.gr-assets.com/books/1361975680s/2657.jpg    \n",
       "5 https://images.gr-assets.com/books/1490528560s/4671.jpg    \n",
       "6 https://images.gr-assets.com/books/1360206420s/11870085.jpg"
      ]
     },
     "metadata": {},
     "output_type": "display_data"
    }
   ],
   "source": [
    "head(books)"
   ]
  },
  {
   "cell_type": "code",
   "execution_count": 4,
   "metadata": {},
   "outputs": [
    {
     "data": {
      "text/html": [
       "<table>\n",
       "<thead><tr><th scope=col>book_id</th><th scope=col>user_id</th><th scope=col>rating</th></tr></thead>\n",
       "<tbody>\n",
       "\t<tr><td>1   </td><td> 314</td><td>5   </td></tr>\n",
       "\t<tr><td>1   </td><td> 439</td><td>3   </td></tr>\n",
       "\t<tr><td>1   </td><td> 588</td><td>5   </td></tr>\n",
       "\t<tr><td>1   </td><td>1169</td><td>4   </td></tr>\n",
       "\t<tr><td>1   </td><td>1185</td><td>4   </td></tr>\n",
       "\t<tr><td>1   </td><td>2077</td><td>4   </td></tr>\n",
       "</tbody>\n",
       "</table>\n"
      ],
      "text/latex": [
       "\\begin{tabular}{r|lll}\n",
       " book\\_id & user\\_id & rating\\\\\n",
       "\\hline\n",
       "\t 1    &  314 & 5   \\\\\n",
       "\t 1    &  439 & 3   \\\\\n",
       "\t 1    &  588 & 5   \\\\\n",
       "\t 1    & 1169 & 4   \\\\\n",
       "\t 1    & 1185 & 4   \\\\\n",
       "\t 1    & 2077 & 4   \\\\\n",
       "\\end{tabular}\n"
      ],
      "text/markdown": [
       "\n",
       "book_id | user_id | rating | \n",
       "|---|---|---|---|---|---|\n",
       "| 1    |  314 | 5    | \n",
       "| 1    |  439 | 3    | \n",
       "| 1    |  588 | 5    | \n",
       "| 1    | 1169 | 4    | \n",
       "| 1    | 1185 | 4    | \n",
       "| 1    | 2077 | 4    | \n",
       "\n",
       "\n"
      ],
      "text/plain": [
       "  book_id user_id rating\n",
       "1 1        314    5     \n",
       "2 1        439    3     \n",
       "3 1        588    5     \n",
       "4 1       1169    4     \n",
       "5 1       1185    4     \n",
       "6 1       2077    4     "
      ]
     },
     "metadata": {},
     "output_type": "display_data"
    }
   ],
   "source": [
    "head(ratings)"
   ]
  },
  {
   "cell_type": "markdown",
   "metadata": {},
   "source": [
    "Let's start to clean our **ratings** dataset. It is possible for a user have more than one rating for the same book. We could assume that the user change its mind and reevalute the book rating. It definitely can happen, but for simplicity we remove these cases and assume that every combination of book and user has only one rating. In this case, we have to eliminate the cases where users gave more than on rating for the same book"
   ]
  },
  {
   "cell_type": "code",
   "execution_count": 15,
   "metadata": {},
   "outputs": [
    {
     "name": "stdout",
     "output_type": "stream",
     "text": [
      "Number of duplicate ratings:  4,487"
     ]
    }
   ],
   "source": [
    "ratings<-ratings %>% group_by(user_id, book_id) %>% mutate(total=n())\n",
    "cat('Number of duplicate ratings: ', format(nrow(ratings[ratings$total > 1,]),big.mark=\",\",scientific=FALSE))"
   ]
  },
  {
   "cell_type": "markdown",
   "metadata": {},
   "source": [
    "Example of duplicated rating: As you can see below, user **3204** rated book **8946** five times. We eliminate these cases."
   ]
  },
  {
   "cell_type": "code",
   "execution_count": 5,
   "metadata": {
    "scrolled": false
   },
   "outputs": [
    {
     "data": {
      "text/html": [
       "<table>\n",
       "<thead><tr><th scope=col>book_id</th><th scope=col>user_id</th><th scope=col>total</th></tr></thead>\n",
       "<tbody>\n",
       "\t<tr><td>8946 </td><td> 3204</td><td>5    </td></tr>\n",
       "\t<tr><td>2515 </td><td> 4359</td><td>4    </td></tr>\n",
       "\t<tr><td>3996 </td><td>38259</td><td>4    </td></tr>\n",
       "\t<tr><td>6472 </td><td>  691</td><td>4    </td></tr>\n",
       "\t<tr><td>7420 </td><td>34548</td><td>4    </td></tr>\n",
       "\t<tr><td>8946 </td><td>   42</td><td>4    </td></tr>\n",
       "</tbody>\n",
       "</table>\n"
      ],
      "text/latex": [
       "\\begin{tabular}{r|lll}\n",
       " book\\_id & user\\_id & total\\\\\n",
       "\\hline\n",
       "\t 8946  &  3204 & 5    \\\\\n",
       "\t 2515  &  4359 & 4    \\\\\n",
       "\t 3996  & 38259 & 4    \\\\\n",
       "\t 6472  &   691 & 4    \\\\\n",
       "\t 7420  & 34548 & 4    \\\\\n",
       "\t 8946  &    42 & 4    \\\\\n",
       "\\end{tabular}\n"
      ],
      "text/markdown": [
       "\n",
       "book_id | user_id | total | \n",
       "|---|---|---|---|---|---|\n",
       "| 8946  |  3204 | 5     | \n",
       "| 2515  |  4359 | 4     | \n",
       "| 3996  | 38259 | 4     | \n",
       "| 6472  |   691 | 4     | \n",
       "| 7420  | 34548 | 4     | \n",
       "| 8946  |    42 | 4     | \n",
       "\n",
       "\n"
      ],
      "text/plain": [
       "  book_id user_id total\n",
       "1 8946     3204   5    \n",
       "2 2515     4359   4    \n",
       "3 3996    38259   4    \n",
       "4 6472      691   4    \n",
       "5 7420    34548   4    \n",
       "6 8946       42   4    "
      ]
     },
     "metadata": {},
     "output_type": "display_data"
    }
   ],
   "source": [
    "duplicated_ratings<-ratings%>%\n",
    "    group_by(book_id,user_id)%>%\n",
    "    summarise(total=n())%>%\n",
    "    filter(total>1)%>%\n",
    "    arrange(desc(total))\n",
    "\n",
    "head(duplicated_ratings)"
   ]
  },
  {
   "cell_type": "markdown",
   "metadata": {},
   "source": [
    "As you can see above, user **3204** rated book **8946** five times. We eliminate these cases."
   ]
  },
  {
   "cell_type": "code",
   "execution_count": 16,
   "metadata": {
    "collapsed": true
   },
   "outputs": [],
   "source": [
    "ratings <- ratings[ratings$total == 1,]"
   ]
  },
  {
   "cell_type": "code",
   "execution_count": 18,
   "metadata": {},
   "outputs": [
    {
     "name": "stdout",
     "output_type": "stream",
     "text": [
      " Number of ratings:  977,269 \n",
      " Number of Books:  10,000 \n",
      " Number of Users:  53,380"
     ]
    }
   ],
   "source": [
    "cat(' Number of ratings: ',format(nrow(ratings),big.mark=\",\",scientific=FALSE),'\\n',\n",
    "    'Number of Books: ',format(length(unique(ratings$book_id)),big.mark=\",\",scientific=FALSE),'\\n',\n",
    "    'Number of Users: ',format(length(unique(ratings$user_id)),big.mark=\",\",scientific=FALSE))"
   ]
  },
  {
   "cell_type": "markdown",
   "metadata": {},
   "source": [
    "For this problem, I decided to worh with books that have atleast 100 reviews, and user who gave more than 20 reviews.  Doing that I am significantly reducing reducing the number books and users. It helped me to reduce process time consumption."
   ]
  },
  {
   "cell_type": "code",
   "execution_count": 19,
   "metadata": {
    "scrolled": true
   },
   "outputs": [
    {
     "name": "stdout",
     "output_type": "stream",
     "text": [
      " Number of ratings:  145,600 \n",
      " Number of Books:  1,456 \n",
      " Number of Users:  6,735"
     ]
    }
   ],
   "source": [
    "ratings<-ratings%>%group_by(user_id)%>%mutate(total=n())%>%filter(total>20)\n",
    "ratings<-ratings%>%group_by(book_id)%>%mutate(total=n())%>%filter(total==100)\n",
    "cat(' Number of ratings: ',format(nrow(ratings),big.mark=\",\",scientific=FALSE),'\\n',\n",
    "    'Number of Books: ',format(length(unique(ratings$book_id)),big.mark=\",\",scientific=FALSE),'\\n',\n",
    "    'Number of Users: ',format(length(unique(ratings$user_id)),big.mark=\",\",scientific=FALSE))"
   ]
  },
  {
   "cell_type": "markdown",
   "metadata": {},
   "source": [
    "Now, we have 9,806,160 combinatations of (**book**, **user**), and only 145,600 ratings. It means that less than 2% of these possible combination have been rated."
   ]
  },
  {
   "cell_type": "markdown",
   "metadata": {},
   "source": [
    "## Understand more about our data: Descriptive analysis"
   ]
  },
  {
   "cell_type": "markdown",
   "metadata": {},
   "source": [
    "### What's the most reviewed book?"
   ]
  },
  {
   "cell_type": "code",
   "execution_count": 20,
   "metadata": {},
   "outputs": [
    {
     "data": {
      "text/html": [
       "<table>\n",
       "<thead><tr><th scope=col>id</th><th scope=col>book_id</th><th scope=col>best_book_id</th><th scope=col>work_id</th><th scope=col>books_count</th><th scope=col>isbn</th><th scope=col>isbn13</th><th scope=col>authors</th><th scope=col>original_publication_year</th><th scope=col>original_title</th><th scope=col>⋯</th><th scope=col>ratings_count</th><th scope=col>work_ratings_count</th><th scope=col>work_text_reviews_count</th><th scope=col>ratings_1</th><th scope=col>ratings_2</th><th scope=col>ratings_3</th><th scope=col>ratings_4</th><th scope=col>ratings_5</th><th scope=col>image_url</th><th scope=col>small_image_url</th></tr></thead>\n",
       "<tbody>\n",
       "\t<tr><td>1                                                         </td><td>2767052                                                   </td><td>2767052                                                   </td><td>2792775                                                   </td><td>272                                                       </td><td>439023483                                                 </td><td>9.780439e+12                                              </td><td>Suzanne Collins                                           </td><td>2008                                                      </td><td>The Hunger Games                                          </td><td>⋯                                                         </td><td>4780653                                                   </td><td>4942365                                                   </td><td>155254                                                    </td><td>66715                                                     </td><td>127936                                                    </td><td>560092                                                    </td><td>1481305                                                   </td><td>2706317                                                   </td><td>https://images.gr-assets.com/books/1447303603m/2767052.jpg</td><td>https://images.gr-assets.com/books/1447303603s/2767052.jpg</td></tr>\n",
       "</tbody>\n",
       "</table>\n"
      ],
      "text/latex": [
       "\\begin{tabular}{r|lllllllllllllllllllllll}\n",
       " id & book\\_id & best\\_book\\_id & work\\_id & books\\_count & isbn & isbn13 & authors & original\\_publication\\_year & original\\_title & ⋯ & ratings\\_count & work\\_ratings\\_count & work\\_text\\_reviews\\_count & ratings\\_1 & ratings\\_2 & ratings\\_3 & ratings\\_4 & ratings\\_5 & image\\_url & small\\_image\\_url\\\\\n",
       "\\hline\n",
       "\t 1                                                          & 2767052                                                    & 2767052                                                    & 2792775                                                    & 272                                                        & 439023483                                                  & 9.780439e+12                                               & Suzanne Collins                                            & 2008                                                       & The Hunger Games                                           & ⋯                                                          & 4780653                                                    & 4942365                                                    & 155254                                                     & 66715                                                      & 127936                                                     & 560092                                                     & 1481305                                                    & 2706317                                                    & https://images.gr-assets.com/books/1447303603m/2767052.jpg & https://images.gr-assets.com/books/1447303603s/2767052.jpg\\\\\n",
       "\\end{tabular}\n"
      ],
      "text/markdown": [
       "\n",
       "id | book_id | best_book_id | work_id | books_count | isbn | isbn13 | authors | original_publication_year | original_title | ⋯ | ratings_count | work_ratings_count | work_text_reviews_count | ratings_1 | ratings_2 | ratings_3 | ratings_4 | ratings_5 | image_url | small_image_url | \n",
       "|---|\n",
       "| 1                                                          | 2767052                                                    | 2767052                                                    | 2792775                                                    | 272                                                        | 439023483                                                  | 9.780439e+12                                               | Suzanne Collins                                            | 2008                                                       | The Hunger Games                                           | ⋯                                                          | 4780653                                                    | 4942365                                                    | 155254                                                     | 66715                                                      | 127936                                                     | 560092                                                     | 1481305                                                    | 2706317                                                    | https://images.gr-assets.com/books/1447303603m/2767052.jpg | https://images.gr-assets.com/books/1447303603s/2767052.jpg | \n",
       "\n",
       "\n"
      ],
      "text/plain": [
       "  id book_id best_book_id work_id books_count isbn      isbn13      \n",
       "1 1  2767052 2767052      2792775 272         439023483 9.780439e+12\n",
       "  authors         original_publication_year original_title   ⋯ ratings_count\n",
       "1 Suzanne Collins 2008                      The Hunger Games ⋯ 4780653      \n",
       "  work_ratings_count work_text_reviews_count ratings_1 ratings_2 ratings_3\n",
       "1 4942365            155254                  66715     127936    560092   \n",
       "  ratings_4 ratings_5\n",
       "1 1481305   2706317  \n",
       "  image_url                                                 \n",
       "1 https://images.gr-assets.com/books/1447303603m/2767052.jpg\n",
       "  small_image_url                                           \n",
       "1 https://images.gr-assets.com/books/1447303603s/2767052.jpg"
      ]
     },
     "metadata": {},
     "output_type": "display_data"
    }
   ],
   "source": [
    "books[books$ratings_count==max(books$ratings_count),]"
   ]
  },
  {
   "cell_type": "markdown",
   "metadata": {},
   "source": [
    "![title](https://images.gr-assets.com/books/1447303603m/2767052.jpg)"
   ]
  },
  {
   "cell_type": "markdown",
   "metadata": {},
   "source": [
    "Hunger Games - Suzanne Collins with 4,780,653 reviews"
   ]
  },
  {
   "cell_type": "markdown",
   "metadata": {},
   "source": [
    "### Which books has the highest average rating?"
   ]
  },
  {
   "cell_type": "code",
   "execution_count": 21,
   "metadata": {},
   "outputs": [
    {
     "data": {
      "text/html": [
       "<table>\n",
       "<thead><tr><th></th><th scope=col>id</th><th scope=col>book_id</th><th scope=col>best_book_id</th><th scope=col>work_id</th><th scope=col>books_count</th><th scope=col>isbn</th><th scope=col>isbn13</th><th scope=col>authors</th><th scope=col>original_publication_year</th><th scope=col>original_title</th><th scope=col>⋯</th><th scope=col>ratings_count</th><th scope=col>work_ratings_count</th><th scope=col>work_text_reviews_count</th><th scope=col>ratings_1</th><th scope=col>ratings_2</th><th scope=col>ratings_3</th><th scope=col>ratings_4</th><th scope=col>ratings_5</th><th scope=col>image_url</th><th scope=col>small_image_url</th></tr></thead>\n",
       "<tbody>\n",
       "\t<tr><th scope=row>3628</th><td>3628                                                    </td><td>24812                                                   </td><td>24812                                                   </td><td>25599                                                   </td><td>14                                                      </td><td>740748475                                               </td><td>9.780741e+12                                            </td><td>Bill Watterson                                          </td><td>2005                                                    </td><td>The Complete Calvin and Hobbes                          </td><td>⋯                                                       </td><td>28900                                                   </td><td>29968                                                   </td><td>861                                                     </td><td>120                                                     </td><td>154                                                     </td><td>693                                                     </td><td>3117                                                    </td><td>25884                                                   </td><td>https://images.gr-assets.com/books/1473064526m/24812.jpg</td><td>https://images.gr-assets.com/books/1473064526s/24812.jpg</td></tr>\n",
       "</tbody>\n",
       "</table>\n"
      ],
      "text/latex": [
       "\\begin{tabular}{r|lllllllllllllllllllllll}\n",
       "  & id & book\\_id & best\\_book\\_id & work\\_id & books\\_count & isbn & isbn13 & authors & original\\_publication\\_year & original\\_title & ⋯ & ratings\\_count & work\\_ratings\\_count & work\\_text\\_reviews\\_count & ratings\\_1 & ratings\\_2 & ratings\\_3 & ratings\\_4 & ratings\\_5 & image\\_url & small\\_image\\_url\\\\\n",
       "\\hline\n",
       "\t3628 & 3628                                                     & 24812                                                    & 24812                                                    & 25599                                                    & 14                                                       & 740748475                                                & 9.780741e+12                                             & Bill Watterson                                           & 2005                                                     & The Complete Calvin and Hobbes                           & ⋯                                                        & 28900                                                    & 29968                                                    & 861                                                      & 120                                                      & 154                                                      & 693                                                      & 3117                                                     & 25884                                                    & https://images.gr-assets.com/books/1473064526m/24812.jpg & https://images.gr-assets.com/books/1473064526s/24812.jpg\\\\\n",
       "\\end{tabular}\n"
      ],
      "text/markdown": [
       "\n",
       "| <!--/--> | id | book_id | best_book_id | work_id | books_count | isbn | isbn13 | authors | original_publication_year | original_title | ⋯ | ratings_count | work_ratings_count | work_text_reviews_count | ratings_1 | ratings_2 | ratings_3 | ratings_4 | ratings_5 | image_url | small_image_url | \n",
       "|---|\n",
       "| 3628 | 3628                                                     | 24812                                                    | 24812                                                    | 25599                                                    | 14                                                       | 740748475                                                | 9.780741e+12                                             | Bill Watterson                                           | 2005                                                     | The Complete Calvin and Hobbes                           | ⋯                                                        | 28900                                                    | 29968                                                    | 861                                                      | 120                                                      | 154                                                      | 693                                                      | 3117                                                     | 25884                                                    | https://images.gr-assets.com/books/1473064526m/24812.jpg | https://images.gr-assets.com/books/1473064526s/24812.jpg | \n",
       "\n",
       "\n"
      ],
      "text/plain": [
       "     id   book_id best_book_id work_id books_count isbn      isbn13      \n",
       "3628 3628 24812   24812        25599   14          740748475 9.780741e+12\n",
       "     authors        original_publication_year original_title                 ⋯\n",
       "3628 Bill Watterson 2005                      The Complete Calvin and Hobbes ⋯\n",
       "     ratings_count work_ratings_count work_text_reviews_count ratings_1\n",
       "3628 28900         29968              861                     120      \n",
       "     ratings_2 ratings_3 ratings_4 ratings_5\n",
       "3628 154       693       3117      25884    \n",
       "     image_url                                               \n",
       "3628 https://images.gr-assets.com/books/1473064526m/24812.jpg\n",
       "     small_image_url                                         \n",
       "3628 https://images.gr-assets.com/books/1473064526s/24812.jpg"
      ]
     },
     "metadata": {},
     "output_type": "display_data"
    }
   ],
   "source": [
    "books[books$average_rating==max(books$average_rating),]"
   ]
  },
  {
   "cell_type": "markdown",
   "metadata": {},
   "source": [
    "![title](https://images.gr-assets.com/books/1473064526m/24812.jpg)"
   ]
  },
  {
   "cell_type": "markdown",
   "metadata": {},
   "source": [
    "The Complete Calvin and Hobbes - Bill Watterson with average of **4.82** stars"
   ]
  },
  {
   "cell_type": "markdown",
   "metadata": {},
   "source": [
    "### How is the rating distribution?"
   ]
  },
  {
   "cell_type": "code",
   "execution_count": 23,
   "metadata": {},
   "outputs": [
    {
     "data": {},
     "metadata": {},
     "output_type": "display_data"
    },
    {
     "data": {
      "image/png": "[encoded data removed]",
      "text/plain": [
       "plot without title"
      ]
     },
     "metadata": {},
     "output_type": "display_data"
    }
   ],
   "source": [
    "ratings%>%\n",
    "ggplot(aes(factor(rating)))+\n",
    "geom_bar(fill=\"orange\",col=\"navy\")+xlab(\"stars\")+ylab(\"\")+theme_minimal()"
   ]
  },
  {
   "cell_type": "markdown",
   "metadata": {},
   "source": [
    "It seems that most of ratings are between 4-5 stars. Rarely a reader rate it as 1-2 star."
   ]
  },
  {
   "cell_type": "markdown",
   "metadata": {},
   "source": [
    "### Number of ratings by user"
   ]
  },
  {
   "cell_type": "code",
   "execution_count": 25,
   "metadata": {},
   "outputs": [
    {
     "data": {},
     "metadata": {},
     "output_type": "display_data"
    },
    {
     "data": {
      "image/png": "[encoded data removed]",
      "text/plain": [
       "plot without title"
      ]
     },
     "metadata": {},
     "output_type": "display_data"
    }
   ],
   "source": [
    "ratings%>%group_by(user_id)%>%summarise(total=n())%>%\n",
    "ggplot(aes(total))+\n",
    "geom_histogram(bins=25,fill=\"orange\",col=\"navy\")+theme_minimal()+xlab(\"Ratings by user\")+ylab(\"\")"
   ]
  },
  {
   "cell_type": "markdown",
   "metadata": {},
   "source": [
    "### Rating average by user"
   ]
  },
  {
   "cell_type": "code",
   "execution_count": 26,
   "metadata": {},
   "outputs": [
    {
     "data": {},
     "metadata": {},
     "output_type": "display_data"
    },
    {
     "data": {
      "image/png": "[encoded data removed]",
      "text/plain": [
       "plot without title"
      ]
     },
     "metadata": {},
     "output_type": "display_data"
    }
   ],
   "source": [
    "ratings%>%group_by(user_id)%>%summarise(rating=mean(rating))%>%\n",
    "ggplot(aes(rating))+\n",
    "geom_histogram(bins=30,fill=\"orange\",col=\"navy\")+theme_minimal()+xlab(\"Mean of rating by user\")+ylab(\"\")+\n",
    "geom_vline(xintercept = mean(ratings$rating),col=\"red\",lty=2)"
   ]
  },
  {
   "cell_type": "markdown",
   "metadata": {},
   "source": [
    "### Rating average by book"
   ]
  },
  {
   "cell_type": "code",
   "execution_count": 27,
   "metadata": {},
   "outputs": [
    {
     "data": {},
     "metadata": {},
     "output_type": "display_data"
    },
    {
     "data": {
      "image/png": "[encoded data removed]",
      "text/plain": [
       "plot without title"
      ]
     },
     "metadata": {},
     "output_type": "display_data"
    }
   ],
   "source": [
    "ratings%>%group_by(book_id)%>%summarise(rating=mean(rating))%>%\n",
    "ggplot(aes(rating))+\n",
    "geom_histogram(bins=30,fill=\"orange\",col=\"navy\")+theme_minimal()+xlab(\"rating average by book\")+ylab(\"\")+\n",
    "geom_vline(xintercept = mean(ratings$rating),col=\"red\",lty=2)"
   ]
  },
  {
   "cell_type": "markdown",
   "metadata": {},
   "source": [
    "### Item-Based Collaborative Filter"
   ]
  },
  {
   "cell_type": "markdown",
   "metadata": {},
   "source": [
    "The idea here is to suggest books that are similar to other books.\n",
    "\n",
    "We have to create a matrix which each row represents an user and each column a book. The entries of this matrix are the the ratings. For example the element $r_{i,j}$ is the rate from the user $i$ for the book $j$.\n",
    "\n",
    "As I mentioned before, less than 2% of the combinations of user and book are rated. It means that this matrix has a huge amount of missing data. For these cases we assume value 0."
   ]
  },
  {
   "cell_type": "code",
   "execution_count": 29,
   "metadata": {
    "collapsed": true
   },
   "outputs": [],
   "source": [
    "#Create Matrix from Ratings dataset: rows -> user ; columns->books\n",
    "rating_matrix<-spread(ratings%>%select(book_id,user_id,rating),book_id,rating)\n",
    "row.names(rating_matrix)<-rating_matrix$user_id\n",
    "rating_matrix<-rating_matrix[,!(names(rating_matrix)%in%\"user_id\")] #remove 'user_id' column"
   ]
  },
  {
   "cell_type": "code",
   "execution_count": 30,
   "metadata": {
    "collapsed": true
   },
   "outputs": [],
   "source": [
    "rating_matrix<-as.matrix(rating_matrix)"
   ]
  },
  {
   "cell_type": "code",
   "execution_count": 32,
   "metadata": {},
   "outputs": [
    {
     "data": {
      "text/html": [
       "<ol class=list-inline>\n",
       "\t<li>6735</li>\n",
       "\t<li>1456</li>\n",
       "</ol>\n"
      ],
      "text/latex": [
       "\\begin{enumerate*}\n",
       "\\item 6735\n",
       "\\item 1456\n",
       "\\end{enumerate*}\n"
      ],
      "text/markdown": [
       "1. 6735\n",
       "2. 1456\n",
       "\n",
       "\n"
      ],
      "text/plain": [
       "[1] 6735 1456"
      ]
     },
     "metadata": {},
     "output_type": "display_data"
    }
   ],
   "source": [
    "dim(rating_matrix)"
   ]
  },
  {
   "cell_type": "code",
   "execution_count": 60,
   "metadata": {
    "scrolled": true
   },
   "outputs": [
    {
     "data": {
      "text/html": [
       "<table>\n",
       "<thead><tr><th></th><th scope=col>1</th><th scope=col>2</th><th scope=col>3</th><th scope=col>4</th><th scope=col>5</th><th scope=col>6</th><th scope=col>7</th><th scope=col>8</th><th scope=col>9</th><th scope=col>10</th><th scope=col>⋯</th><th scope=col>4309</th><th scope=col>4333</th><th scope=col>4579</th><th scope=col>4793</th><th scope=col>4892</th><th scope=col>5195</th><th scope=col>5507</th><th scope=col>5775</th><th scope=col>7041</th><th scope=col>7150</th></tr></thead>\n",
       "<tbody>\n",
       "\t<tr><th scope=row>7</th><td>0</td><td>0</td><td>0</td><td>0</td><td>0</td><td>0</td><td>0</td><td>0</td><td>0</td><td>0</td><td>⋯</td><td>0</td><td>0</td><td>0</td><td>0</td><td>0</td><td>0</td><td>0</td><td>0</td><td>0</td><td>0</td></tr>\n",
       "\t<tr><th scope=row>35</th><td>0</td><td>0</td><td>0</td><td>0</td><td>0</td><td>0</td><td>0</td><td>0</td><td>0</td><td>0</td><td>⋯</td><td>0</td><td>0</td><td>0</td><td>0</td><td>0</td><td>0</td><td>0</td><td>0</td><td>0</td><td>0</td></tr>\n",
       "\t<tr><th scope=row>41</th><td>0</td><td>0</td><td>0</td><td>0</td><td>0</td><td>0</td><td>0</td><td>0</td><td>0</td><td>0</td><td>⋯</td><td>0</td><td>0</td><td>0</td><td>0</td><td>0</td><td>0</td><td>0</td><td>0</td><td>0</td><td>0</td></tr>\n",
       "\t<tr><th scope=row>75</th><td>0</td><td>0</td><td>0</td><td>0</td><td>0</td><td>0</td><td>0</td><td>0</td><td>0</td><td>0</td><td>⋯</td><td>0</td><td>0</td><td>0</td><td>0</td><td>0</td><td>0</td><td>0</td><td>0</td><td>0</td><td>0</td></tr>\n",
       "\t<tr><th scope=row>89</th><td>0</td><td>0</td><td>0</td><td>0</td><td>0</td><td>0</td><td>0</td><td>0</td><td>0</td><td>0</td><td>⋯</td><td>0</td><td>0</td><td>0</td><td>0</td><td>0</td><td>0</td><td>0</td><td>0</td><td>0</td><td>0</td></tr>\n",
       "\t<tr><th scope=row>143</th><td>0</td><td>0</td><td>0</td><td>0</td><td>0</td><td>0</td><td>0</td><td>0</td><td>0</td><td>0</td><td>⋯</td><td>0</td><td>0</td><td>0</td><td>0</td><td>0</td><td>0</td><td>0</td><td>0</td><td>0</td><td>0</td></tr>\n",
       "</tbody>\n",
       "</table>\n"
      ],
      "text/latex": [
       "\\begin{tabular}{r|llllllllllllllllllllllllllllllllllllllllllllllllllllllllllllllllllllllllllllllllllllllllllllllllllllllllllllllllllllllllllllllllllllllllllllllllllllllllllllllllllllllllllllllllllllllllllllllllllllllllllllllllllllllllllllllllllllllllllllllllllllllllllllllllllllllllllllllllllllllllllllllllllllllllllllllllllllllllllllllllllllllllllllllllllllllllllllllllllllllllllllllllllllllllllllllllllllllllllllllllllllllllllllllllllllllllllllllllllllllllllllllllllllllllllllllllllllllllllllllllllllllllllllllllllllllllllllllllllllllllllllllllllllllllllllllllllllllllllllllllllllllllllllllllllllllllllllllllllllllllllllllllllllllllllllllllllllllllllllllllllllllllllllllllllllllllllllllllllllllllllllllllllllllllllllllllllllllllllllllllllllllllllllllllllllllllllllllllllllllllllllllllllllllllllllllllllllllllllllllllllllllllllllllllllllllllllllllllllllllllllllllllllllllllllllllllllllllllllllllllllllllllllllllllllllllllllllllllllllllllllllllllllllllllllllllllllllllllllllllllllllllllllllllllllllllllllllllllllllllllllllllllllllllllllllllllllllllllllllllllllllllllllllllllllllllllllllllllllllllllllllllllllllllllllllllllllllllllllllllllllllllllllllllllllllllllllllllllllllllllllllllllllllllllllllllllllllllllllllllllllllllllllllllllllllllllllllllllllllllllllllllllllllllllllllllllllllllllllllllllllllllllllllllllllllllllllllllllllllllllllllllllllllllllllllllllllllllllllllllllllllllllllllllllllllllllllllllllllllllllllllllllllllllllllllllllllllllllllllllllllllllllllllllll}\n",
       "  & 1 & 2 & 3 & 4 & 5 & 6 & 7 & 8 & 9 & 10 & ⋯ & 4309 & 4333 & 4579 & 4793 & 4892 & 5195 & 5507 & 5775 & 7041 & 7150\\\\\n",
       "\\hline\n",
       "\t7 & 0 & 0 & 0 & 0 & 0 & 0 & 0 & 0 & 0 & 0 & ⋯ & 0 & 0 & 0 & 0 & 0 & 0 & 0 & 0 & 0 & 0\\\\\n",
       "\t35 & 0 & 0 & 0 & 0 & 0 & 0 & 0 & 0 & 0 & 0 & ⋯ & 0 & 0 & 0 & 0 & 0 & 0 & 0 & 0 & 0 & 0\\\\\n",
       "\t41 & 0 & 0 & 0 & 0 & 0 & 0 & 0 & 0 & 0 & 0 & ⋯ & 0 & 0 & 0 & 0 & 0 & 0 & 0 & 0 & 0 & 0\\\\\n",
       "\t75 & 0 & 0 & 0 & 0 & 0 & 0 & 0 & 0 & 0 & 0 & ⋯ & 0 & 0 & 0 & 0 & 0 & 0 & 0 & 0 & 0 & 0\\\\\n",
       "\t89 & 0 & 0 & 0 & 0 & 0 & 0 & 0 & 0 & 0 & 0 & ⋯ & 0 & 0 & 0 & 0 & 0 & 0 & 0 & 0 & 0 & 0\\\\\n",
       "\t143 & 0 & 0 & 0 & 0 & 0 & 0 & 0 & 0 & 0 & 0 & ⋯ & 0 & 0 & 0 & 0 & 0 & 0 & 0 & 0 & 0 & 0\\\\\n",
       "\\end{tabular}\n"
      ],
      "text/markdown": [
       "\n",
       "| <!--/--> | 1 | 2 | 3 | 4 | 5 | 6 | 7 | 8 | 9 | 10 | ⋯ | 4309 | 4333 | 4579 | 4793 | 4892 | 5195 | 5507 | 5775 | 7041 | 7150 | \n",
       "|---|---|---|---|---|---|\n",
       "| 7 | 0 | 0 | 0 | 0 | 0 | 0 | 0 | 0 | 0 | 0 | ⋯ | 0 | 0 | 0 | 0 | 0 | 0 | 0 | 0 | 0 | 0 | \n",
       "| 35 | 0 | 0 | 0 | 0 | 0 | 0 | 0 | 0 | 0 | 0 | ⋯ | 0 | 0 | 0 | 0 | 0 | 0 | 0 | 0 | 0 | 0 | \n",
       "| 41 | 0 | 0 | 0 | 0 | 0 | 0 | 0 | 0 | 0 | 0 | ⋯ | 0 | 0 | 0 | 0 | 0 | 0 | 0 | 0 | 0 | 0 | \n",
       "| 75 | 0 | 0 | 0 | 0 | 0 | 0 | 0 | 0 | 0 | 0 | ⋯ | 0 | 0 | 0 | 0 | 0 | 0 | 0 | 0 | 0 | 0 | \n",
       "| 89 | 0 | 0 | 0 | 0 | 0 | 0 | 0 | 0 | 0 | 0 | ⋯ | 0 | 0 | 0 | 0 | 0 | 0 | 0 | 0 | 0 | 0 | \n",
       "| 143 | 0 | 0 | 0 | 0 | 0 | 0 | 0 | 0 | 0 | 0 | ⋯ | 0 | 0 | 0 | 0 | 0 | 0 | 0 | 0 | 0 | 0 | \n",
       "\n",
       "\n"
      ],
      "text/plain": [
       "    1 2 3 4 5 6 7 8 9 10 ⋯ 4309 4333 4579 4793 4892 5195 5507 5775 7041 7150\n",
       "7   0 0 0 0 0 0 0 0 0 0  ⋯ 0    0    0    0    0    0    0    0    0    0   \n",
       "35  0 0 0 0 0 0 0 0 0 0  ⋯ 0    0    0    0    0    0    0    0    0    0   \n",
       "41  0 0 0 0 0 0 0 0 0 0  ⋯ 0    0    0    0    0    0    0    0    0    0   \n",
       "75  0 0 0 0 0 0 0 0 0 0  ⋯ 0    0    0    0    0    0    0    0    0    0   \n",
       "89  0 0 0 0 0 0 0 0 0 0  ⋯ 0    0    0    0    0    0    0    0    0    0   \n",
       "143 0 0 0 0 0 0 0 0 0 0  ⋯ 0    0    0    0    0    0    0    0    0    0   "
      ]
     },
     "metadata": {},
     "output_type": "display_data"
    }
   ],
   "source": [
    "#Rows->Users; Columns->Books\n",
    "head(rating_matrix)"
   ]
  },
  {
   "cell_type": "markdown",
   "metadata": {
    "collapsed": true
   },
   "source": [
    "### Similarity"
   ]
  },
  {
   "cell_type": "markdown",
   "metadata": {},
   "source": [
    "How to identify if 2 books are similar? There are a lot of different ways to do this, here we are going to use the cosine similarity.\n",
    "\n",
    "It calculates the cosine of the angle between two vectors. If the angle is *0* degrees meaning that both vectors are on the same direction the cosine is *1*. If the angle is *180* degrees it means that these vectors are in opposite directions and the cosine is *-1*."
   ]
  },
  {
   "cell_type": "markdown",
   "metadata": {},
   "source": [
    "![](https://www.safaribooksonline.com/library/view/statistics-for-machine/9781788295758/assets/2b4a7a82-ad4c-4b2a-b808-e423a334de6f.png)"
   ]
  },
  {
   "cell_type": "markdown",
   "metadata": {},
   "source": [
    "What are the vectors here? A vector is the rates for a book given by all users. Some users did not read the book in this case the rate is *0*.\n",
    "\n",
    "For example:\n",
    "\n",
    "| Movie         | User 1| User 2| User 3| User 4| User 5|\n",
    "| ------------- |:-----:|:-----:|:-----:|:-----:|:-----:|\n",
    "| A             | 2     |3    |.|.|.|\n",
    "| B             | 5     |    .|3|5|5|\n",
    "| C             | 4     |    5|4|3|.|\n",
    "\n",
    "The vector for the movie A is:\n",
    "\n",
    "| User 1| User 2| User 3| User 4| User 5|\n",
    "|:-----:|:-----:|:-----:|:-----:|:-----:|\n",
    "| 2     |3    |0|0|0|"
   ]
  },
  {
   "cell_type": "markdown",
   "metadata": {},
   "source": [
    "### recommenderLab library"
   ]
  },
  {
   "cell_type": "markdown",
   "metadata": {},
   "source": [
    "The **recommenderlab** is R library providing functions to create recommendation models."
   ]
  },
  {
   "cell_type": "code",
   "execution_count": 36,
   "metadata": {
    "collapsed": true
   },
   "outputs": [],
   "source": [
    "library(\"recommenderlab\")"
   ]
  },
  {
   "cell_type": "code",
   "execution_count": 38,
   "metadata": {
    "collapsed": true
   },
   "outputs": [],
   "source": [
    "rating_matrix[is.na(rating_matrix)]<-0"
   ]
  },
  {
   "cell_type": "code",
   "execution_count": 61,
   "metadata": {
    "collapsed": true
   },
   "outputs": [],
   "source": [
    "sparse_rating_matrix<-as(rating_matrix,\"sparseMatrix\")"
   ]
  },
  {
   "cell_type": "code",
   "execution_count": 62,
   "metadata": {
    "collapsed": true
   },
   "outputs": [],
   "source": [
    "ratings <- new(\"realRatingMatrix\", data = sparse_rating_matrix)"
   ]
  },
  {
   "cell_type": "markdown",
   "metadata": {},
   "source": [
    "### Model"
   ]
  },
  {
   "cell_type": "code",
   "execution_count": 64,
   "metadata": {
    "collapsed": true
   },
   "outputs": [],
   "source": [
    "model <- Recommender(ratings, method = \"IBCF\",param=list(method=\"Cosine\"))"
   ]
  },
  {
   "cell_type": "code",
   "execution_count": 65,
   "metadata": {},
   "outputs": [
    {
     "data": {
      "text/plain": [
       "Recommender of type ‘IBCF’ for ‘realRatingMatrix’ \n",
       "learned using 6735 users."
      ]
     },
     "metadata": {},
     "output_type": "display_data"
    }
   ],
   "source": [
    "model"
   ]
  },
  {
   "cell_type": "markdown",
   "metadata": {},
   "source": [
    "### Cross-Validation"
   ]
  },
  {
   "cell_type": "markdown",
   "metadata": {},
   "source": [
    "Let's evaluate how our model is performing comparing to a random recommendation system."
   ]
  },
  {
   "cell_type": "code",
   "execution_count": 73,
   "metadata": {
    "collapsed": true
   },
   "outputs": [],
   "source": [
    "scheme <- evaluationScheme(real_ratings, method = \"cross-validation\", k = 10, given = -1, goodRating = 5)"
   ]
  },
  {
   "cell_type": "code",
   "execution_count": 101,
   "metadata": {
    "collapsed": true
   },
   "outputs": [],
   "source": [
    "models <- list(\"random\" = list(name = \"RANDOM\", param = NULL),\n",
    "                   \"IBCF\" = list(name = \"IBCF\",param=list(method=\"Cosine\")),\n",
    "                   \"UBCF\"= list(name = \"UBCF\",param=list(method=\"Cosine\"))\n",
    "                   )"
   ]
  },
  {
   "cell_type": "code",
   "execution_count": 102,
   "metadata": {},
   "outputs": [
    {
     "name": "stdout",
     "output_type": "stream",
     "text": [
      "RANDOM run fold/sample [model time/prediction time]\n",
      "\t 1  [0.002sec/0.55sec] \n",
      "\t 2  [0.002sec/0.517sec] \n",
      "\t 3  [0.002sec/0.592sec] \n",
      "\t 4  [0.002sec/0.647sec] \n",
      "\t 5  [0.002sec/0.565sec] \n",
      "\t 6  [0.001sec/0.561sec] \n",
      "\t 7  [0.002sec/0.529sec] \n",
      "\t 8  [0.001sec/0.532sec] \n",
      "\t 9  [0.002sec/0.612sec] \n",
      "\t 10  [0.002sec/0.556sec] \n",
      "IBCF run fold/sample [model time/prediction time]\n",
      "\t 1  [53.083sec/0.19sec] \n",
      "\t 2  [51.356sec/0.189sec] \n",
      "\t 3  [53.515sec/0.197sec] \n",
      "\t 4  [49.942sec/0.189sec] \n",
      "\t 5  [54.115sec/0.377sec] \n",
      "\t 6  [58.095sec/0.22sec] \n",
      "\t 7  [57.663sec/0.19sec] \n",
      "\t 8  [55.698sec/0.194sec] \n",
      "\t 9  [54.132sec/0.247sec] \n",
      "\t 10  [54.339sec/0.209sec] \n",
      "UBCF run fold/sample [model time/prediction time]\n",
      "\t 1  [0.019sec/22.7sec] \n",
      "\t 2  [0.016sec/22.781sec] \n",
      "\t 3  [0.017sec/21.724sec] \n",
      "\t 4  [0.017sec/21.382sec] \n",
      "\t 5  [0.016sec/22.386sec] \n",
      "\t 6  [0.017sec/22.766sec] \n",
      "\t 7  [0.016sec/23.16sec] \n",
      "\t 8  [0.017sec/22.506sec] \n",
      "\t 9  [0.016sec/23.052sec] \n",
      "\t 10  [0.017sec/22.739sec] \n"
     ]
    }
   ],
   "source": [
    "error <- evaluate(scheme, models, type = \"ratings\")"
   ]
  },
  {
   "cell_type": "code",
   "execution_count": 120,
   "metadata": {},
   "outputs": [
    {
     "data": {
      "text/html": [
       "<table>\n",
       "<thead><tr><th scope=col>random1</th><th scope=col>random2</th><th scope=col>random3</th><th scope=col>random4</th><th scope=col>random5</th><th scope=col>random6</th><th scope=col>random7</th><th scope=col>random8</th><th scope=col>random9</th><th scope=col>random10</th><th scope=col>⋯</th><th scope=col>UBCF1</th><th scope=col>UBCF2</th><th scope=col>UBCF3</th><th scope=col>UBCF4</th><th scope=col>UBCF5</th><th scope=col>UBCF6</th><th scope=col>UBCF7</th><th scope=col>UBCF8</th><th scope=col>UBCF9</th><th scope=col>UBCF10</th></tr></thead>\n",
       "<tbody>\n",
       "\t<tr><td>1.185968 </td><td>1.200743 </td><td>1.208958 </td><td>1.149076 </td><td>1.177499 </td><td>1.20353  </td><td>1.147874 </td><td>1.166884 </td><td>1.227453 </td><td>1.168076 </td><td>⋯        </td><td>0.9376655</td><td>0.8903662</td><td>0.8835769</td><td>0.8972772</td><td>0.8969304</td><td>0.8856585</td><td>0.9088058</td><td>0.9031941</td><td>0.9341926</td><td>0.8647512</td></tr>\n",
       "</tbody>\n",
       "</table>\n"
      ],
      "text/latex": [
       "\\begin{tabular}{r|llllllllllllllllllllllllllllll}\n",
       " random1 & random2 & random3 & random4 & random5 & random6 & random7 & random8 & random9 & random10 & ⋯ & UBCF1 & UBCF2 & UBCF3 & UBCF4 & UBCF5 & UBCF6 & UBCF7 & UBCF8 & UBCF9 & UBCF10\\\\\n",
       "\\hline\n",
       "\t 1.185968  & 1.200743  & 1.208958  & 1.149076  & 1.177499  & 1.20353   & 1.147874  & 1.166884  & 1.227453  & 1.168076  & ⋯         & 0.9376655 & 0.8903662 & 0.8835769 & 0.8972772 & 0.8969304 & 0.8856585 & 0.9088058 & 0.9031941 & 0.9341926 & 0.8647512\\\\\n",
       "\\end{tabular}\n"
      ],
      "text/markdown": [
       "\n",
       "random1 | random2 | random3 | random4 | random5 | random6 | random7 | random8 | random9 | random10 | ⋯ | UBCF1 | UBCF2 | UBCF3 | UBCF4 | UBCF5 | UBCF6 | UBCF7 | UBCF8 | UBCF9 | UBCF10 | \n",
       "|---|\n",
       "| 1.185968  | 1.200743  | 1.208958  | 1.149076  | 1.177499  | 1.20353   | 1.147874  | 1.166884  | 1.227453  | 1.168076  | ⋯         | 0.9376655 | 0.8903662 | 0.8835769 | 0.8972772 | 0.8969304 | 0.8856585 | 0.9088058 | 0.9031941 | 0.9341926 | 0.8647512 | \n",
       "\n",
       "\n"
      ],
      "text/plain": [
       "  random1  random2  random3  random4  random5  random6 random7  random8 \n",
       "1 1.185968 1.200743 1.208958 1.149076 1.177499 1.20353 1.147874 1.166884\n",
       "  random9  random10 ⋯ UBCF1     UBCF2     UBCF3     UBCF4     UBCF5    \n",
       "1 1.227453 1.168076 ⋯ 0.9376655 0.8903662 0.8835769 0.8972772 0.8969304\n",
       "  UBCF6     UBCF7     UBCF8     UBCF9     UBCF10   \n",
       "1 0.8856585 0.9088058 0.9031941 0.9341926 0.8647512"
      ]
     },
     "metadata": {},
     "output_type": "display_data"
    }
   ],
   "source": [
    "lapply(unlist(lapply(results, function(x) slot(x,\"results\"))), function(x) x@cm[,\"RMSE\"])%>%\n",
    "    as.data.frame()#%>%\n",
    "    #gather(key=\"Algorithm\",value=\"RMSE\")"
   ]
  },
  {
   "cell_type": "code",
   "execution_count": 107,
   "metadata": {},
   "outputs": [
    {
     "ename": "ERROR",
     "evalue": "Error in lappy(lapply(results, function(x) slot(x, \"results\")), function(x) slot(x, : could not find function \"lappy\"\n",
     "output_type": "error",
     "traceback": [
      "Error in lappy(lapply(results, function(x) slot(x, \"results\")), function(x) slot(x, : could not find function \"lappy\"\nTraceback:\n"
     ]
    }
   ],
   "source": [
    "lappy(lapply(results, function(x) slot(x,\"results\")), function(x) slot(x,\"cm\"))"
   ]
  },
  {
   "cell_type": "code",
   "execution_count": 103,
   "metadata": {
    "collapsed": true
   },
   "outputs": [],
   "source": [
    "tmp<-lapply(error,function(x) slot(x,\"results\"))\n",
    "res <- tmp %>% \n",
    "  lapply(function(x) unlist(lapply(x, function(x) unlist(x@cm[ ,\"RMSE\"])))) %>% \n",
    "  as.data.frame() %>% \n",
    "  gather(key = \"Algorithm\", value = \"RMSE\")    "
   ]
  },
  {
   "cell_type": "code",
   "execution_count": 104,
   "metadata": {},
   "outputs": [
    {
     "name": "stderr",
     "output_type": "stream",
     "text": [
      "No summary function supplied, defaulting to `mean_se()\n",
      "No summary function supplied, defaulting to `mean_se()\n"
     ]
    },
    {
     "data": {},
     "metadata": {},
     "output_type": "display_data"
    },
    {
     "data": {
      "image/png": "[encoded data removed]",
      "text/plain": [
       "plot without title"
      ]
     },
     "metadata": {},
     "output_type": "display_data"
    }
   ],
   "source": [
    "ggplot(res,aes(x=Algorithm,y=RMSE,fill=Algorithm))+\n",
    "geom_bar(stat='summary')+geom_errorbar(stat = \"summary\", width = 0.3, size = 0.8)"
   ]
  },
  {
   "cell_type": "markdown",
   "metadata": {
    "collapsed": true
   },
   "source": [
    "Apperantly, we were not able to create an **IBCF** much better than a random choice. The **UBCF**, similar to the one presented on [kaggle kernel](https://www.kaggle.com/philippsp/book-recommender-collaborative-filtering-shiny/notebook), performed way better in this case. It seems that is better to find similar users than find a similar book. Maybe we could improve the results by applying other techniques. Here, the idea is to provide a simple approach and see how it works. The challenge to provide a good recommendation has been widely discussed by the comunity. Hope we"
   ]
  }
 ],
 "metadata": {
  "kernelspec": {
   "display_name": "R",
   "language": "R",
   "name": "ir"
  },
  "language_info": {
   "codemirror_mode": "r",
   "file_extension": ".r",
   "mimetype": "text/x-r-source",
   "name": "R",
   "pygments_lexer": "r",
   "version": "3.4.3"
  }
 },
 "nbformat": 4,
 "nbformat_minor": 2
}

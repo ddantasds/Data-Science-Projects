{
 "cells": [
  {
   "cell_type": "code",
   "execution_count": 11,
   "metadata": {
    "collapsed": false
   },
   "outputs": [],
   "source": [
    "library(RCurl)\n",
    "library(XML)\n",
    "library(ggmap)\n",
    "library(dplyr)"
   ]
  },
  {
   "cell_type": "markdown",
   "metadata": {},
   "source": [
    "# Overview\n",
    "\n",
    "NBA have 30 teams playing 82 games each during a regular season\n",
    "\n",
    "Can we optmize the NBA and provide a better with lower distance travel?"
   ]
  },
  {
   "cell_type": "code",
   "execution_count": null,
   "metadata": {
    "collapsed": true
   },
   "outputs": [],
   "source": []
  },
  {
   "cell_type": "markdown",
   "metadata": {},
   "source": [
    "# Data"
   ]
  },
  {
   "cell_type": "code",
   "execution_count": 3,
   "metadata": {
    "collapsed": true
   },
   "outputs": [],
   "source": [
    "calendar<-data.frame(\"date\"=as.character(),\n",
    "                     \"time\"=as.character(),\n",
    "                     \"visitor\"=as.character(),\n",
    "                     \"visitor_pts\"=as.numeric(),\n",
    "                     \"home\"=as.character(),\n",
    "                     \"home_pts\"=as.numeric())"
   ]
  },
  {
   "cell_type": "markdown",
   "metadata": {},
   "source": [
    "### Scrapping data from Internet\n",
    "\n",
    "Collecting the calendar from https://www.basketball-reference.com"
   ]
  },
  {
   "cell_type": "code",
   "execution_count": 5,
   "metadata": {
    "collapsed": false
   },
   "outputs": [],
   "source": [
    "months<-tolower(month.name)\n",
    "years<-2016\n",
    "\n",
    "for(j in 1:length(years)){\n",
    "  \n",
    "  url<-paste0(\"https://www.basketball-reference.com/leagues/NBA_\",years[j],\"_games-\",months[1],\".html\")\n",
    "  html <- xml2::read_html(url)\n",
    "  node <- rvest::html_node(html, \"table\")\n",
    "  table <- rvest::html_table(node, header = TRUE)\n",
    "  table<-table[,1:6]\n",
    "  \n",
    "  names(table)<-c(\"date\",\"time\",\"visitor\",\"visitor_pts\",\"home\",\"home_pts\")\n",
    "  \n",
    "  for(i in 2:length(months)){\n",
    "    url<-url<-paste0(\"https://www.basketball-reference.com/leagues/NBA_\",years[j],\"_games-\",months[i],\".html\")\n",
    "    if(url.exists(url)){\n",
    "      html <- xml2::read_html(url)\n",
    "      node <- rvest::html_node(html, \"table\")\n",
    "      aux <- rvest::html_table(node, header = TRUE)\n",
    "      aux<-aux[,1:6]\n",
    "      names(aux)<-c(\"date\",\"time\",\"visitor\",\"visitor_pts\",\"home\",\"home_pts\")\n",
    "      table<-rbind(table,aux)\n",
    "    }\n",
    "    else{\n",
    "      next\n",
    "    }\n",
    "  }\n",
    "  table$season<-years[j]\n",
    "  calendar<-rbind(calendar,table)\n",
    "}"
   ]
  },
  {
   "cell_type": "code",
   "execution_count": 6,
   "metadata": {
    "collapsed": false
   },
   "outputs": [
    {
     "data": {
      "text/html": [
       "<table>\n",
       "<thead><tr><th scope=col>date</th><th scope=col>time</th><th scope=col>visitor</th><th scope=col>visitor_pts</th><th scope=col>home</th><th scope=col>home_pts</th><th scope=col>season</th></tr></thead>\n",
       "<tbody>\n",
       "\t<tr><td>Fri, Jan 1, 2016  </td><td>8:00 pm           </td><td>New York Knicks   </td><td>81                </td><td>Chicago Bulls     </td><td>108               </td><td>2016              </td></tr>\n",
       "\t<tr><td>Fri, Jan 1, 2016  </td><td>10:30 pm          </td><td>Philadelphia 76ers</td><td>84                </td><td>Los Angeles Lakers</td><td>93                </td><td>2016              </td></tr>\n",
       "\t<tr><td>Fri, Jan 1, 2016  </td><td>7:30 pm           </td><td>Dallas Mavericks  </td><td>82                </td><td>Miami Heat        </td><td>106               </td><td>2016              </td></tr>\n",
       "\t<tr><td>Fri, Jan 1, 2016  </td><td>7:30 pm           </td><td>Charlotte Hornets </td><td>94                </td><td>Toronto Raptors   </td><td>104               </td><td>2016              </td></tr>\n",
       "\t<tr><td>Fri, Jan 1, 2016  </td><td>7:00 pm           </td><td>Orlando Magic     </td><td>91                </td><td>Washington Wizards</td><td>103               </td><td>2016              </td></tr>\n",
       "\t<tr><td>Sat, Jan 2, 2016  </td><td>3:00 pm           </td><td>Brooklyn Nets     </td><td>100               </td><td>Boston Celtics    </td><td>97                </td><td>2016              </td></tr>\n",
       "</tbody>\n",
       "</table>\n"
      ],
      "text/latex": [
       "\\begin{tabular}{r|lllllll}\n",
       " date & time & visitor & visitor\\_pts & home & home\\_pts & season\\\\\n",
       "\\hline\n",
       "\t Fri, Jan 1, 2016   & 8:00 pm            & New York Knicks    & 81                 & Chicago Bulls      & 108                & 2016              \\\\\n",
       "\t Fri, Jan 1, 2016   & 10:30 pm           & Philadelphia 76ers & 84                 & Los Angeles Lakers & 93                 & 2016              \\\\\n",
       "\t Fri, Jan 1, 2016   & 7:30 pm            & Dallas Mavericks   & 82                 & Miami Heat         & 106                & 2016              \\\\\n",
       "\t Fri, Jan 1, 2016   & 7:30 pm            & Charlotte Hornets  & 94                 & Toronto Raptors    & 104                & 2016              \\\\\n",
       "\t Fri, Jan 1, 2016   & 7:00 pm            & Orlando Magic      & 91                 & Washington Wizards & 103                & 2016              \\\\\n",
       "\t Sat, Jan 2, 2016   & 3:00 pm            & Brooklyn Nets      & 100                & Boston Celtics     & 97                 & 2016              \\\\\n",
       "\\end{tabular}\n"
      ],
      "text/markdown": [
       "\n",
       "date | time | visitor | visitor_pts | home | home_pts | season | \n",
       "|---|---|---|---|---|---|\n",
       "| Fri, Jan 1, 2016   | 8:00 pm            | New York Knicks    | 81                 | Chicago Bulls      | 108                | 2016               | \n",
       "| Fri, Jan 1, 2016   | 10:30 pm           | Philadelphia 76ers | 84                 | Los Angeles Lakers | 93                 | 2016               | \n",
       "| Fri, Jan 1, 2016   | 7:30 pm            | Dallas Mavericks   | 82                 | Miami Heat         | 106                | 2016               | \n",
       "| Fri, Jan 1, 2016   | 7:30 pm            | Charlotte Hornets  | 94                 | Toronto Raptors    | 104                | 2016               | \n",
       "| Fri, Jan 1, 2016   | 7:00 pm            | Orlando Magic      | 91                 | Washington Wizards | 103                | 2016               | \n",
       "| Sat, Jan 2, 2016   | 3:00 pm            | Brooklyn Nets      | 100                | Boston Celtics     | 97                 | 2016               | \n",
       "\n",
       "\n"
      ],
      "text/plain": [
       "  date             time     visitor            visitor_pts home              \n",
       "1 Fri, Jan 1, 2016 8:00 pm  New York Knicks    81          Chicago Bulls     \n",
       "2 Fri, Jan 1, 2016 10:30 pm Philadelphia 76ers 84          Los Angeles Lakers\n",
       "3 Fri, Jan 1, 2016 7:30 pm  Dallas Mavericks   82          Miami Heat        \n",
       "4 Fri, Jan 1, 2016 7:30 pm  Charlotte Hornets  94          Toronto Raptors   \n",
       "5 Fri, Jan 1, 2016 7:00 pm  Orlando Magic      91          Washington Wizards\n",
       "6 Sat, Jan 2, 2016 3:00 pm  Brooklyn Nets      100         Boston Celtics    \n",
       "  home_pts season\n",
       "1 108      2016  \n",
       "2 93       2016  \n",
       "3 106      2016  \n",
       "4 104      2016  \n",
       "5 103      2016  \n",
       "6 97       2016  "
      ]
     },
     "metadata": {},
     "output_type": "display_data"
    }
   ],
   "source": [
    "head(calendar)"
   ]
  },
  {
   "cell_type": "markdown",
   "metadata": {},
   "source": [
    "### Fixing date format"
   ]
  },
  {
   "cell_type": "code",
   "execution_count": 12,
   "metadata": {
    "collapsed": false
   },
   "outputs": [],
   "source": [
    "calendar$date2<-unlist(lapply(strsplit(gsub(\",\",\"\",calendar$date),\" \"),function(x) paste(x[2:4],collapse = \"-\")))\n",
    "calendar$date2<-as.Date(calendar$date2,\"%b-%d-%Y\")\n",
    "calendar<-calendar%>%\n",
    "  arrange(date2)"
   ]
  },
  {
   "cell_type": "code",
   "execution_count": 13,
   "metadata": {
    "collapsed": false
   },
   "outputs": [
    {
     "data": {
      "text/html": [
       "<table>\n",
       "<thead><tr><th scope=col>date</th><th scope=col>time</th><th scope=col>visitor</th><th scope=col>visitor_pts</th><th scope=col>home</th><th scope=col>home_pts</th><th scope=col>season</th><th scope=col>date2</th></tr></thead>\n",
       "<tbody>\n",
       "\t<tr><td>Tue, Oct 27, 2015    </td><td>8:00 pm              </td><td>Detroit Pistons      </td><td>106                  </td><td>Atlanta Hawks        </td><td>94                   </td><td>2016                 </td><td>2015-10-27           </td></tr>\n",
       "\t<tr><td>Tue, Oct 27, 2015    </td><td>8:00 pm              </td><td>Cleveland Cavaliers  </td><td>95                   </td><td>Chicago Bulls        </td><td>97                   </td><td>2016                 </td><td>2015-10-27           </td></tr>\n",
       "\t<tr><td>Tue, Oct 27, 2015    </td><td>10:30 pm             </td><td>New Orleans Pelicans </td><td>95                   </td><td>Golden State Warriors</td><td>111                  </td><td>2016                 </td><td>2015-10-27           </td></tr>\n",
       "\t<tr><td>Tue, Oct 27, 2015    </td><td>8:00 pm              </td><td>Detroit Pistons      </td><td>106                  </td><td>Atlanta Hawks        </td><td>94                   </td><td>2016                 </td><td>2015-10-27           </td></tr>\n",
       "\t<tr><td>Tue, Oct 27, 2015    </td><td>8:00 pm              </td><td>Cleveland Cavaliers  </td><td>95                   </td><td>Chicago Bulls        </td><td>97                   </td><td>2016                 </td><td>2015-10-27           </td></tr>\n",
       "\t<tr><td>Tue, Oct 27, 2015    </td><td>10:30 pm             </td><td>New Orleans Pelicans </td><td>95                   </td><td>Golden State Warriors</td><td>111                  </td><td>2016                 </td><td>2015-10-27           </td></tr>\n",
       "</tbody>\n",
       "</table>\n"
      ],
      "text/latex": [
       "\\begin{tabular}{r|llllllll}\n",
       " date & time & visitor & visitor\\_pts & home & home\\_pts & season & date2\\\\\n",
       "\\hline\n",
       "\t Tue, Oct 27, 2015     & 8:00 pm               & Detroit Pistons       & 106                   & Atlanta Hawks         & 94                    & 2016                  & 2015-10-27           \\\\\n",
       "\t Tue, Oct 27, 2015     & 8:00 pm               & Cleveland Cavaliers   & 95                    & Chicago Bulls         & 97                    & 2016                  & 2015-10-27           \\\\\n",
       "\t Tue, Oct 27, 2015     & 10:30 pm              & New Orleans Pelicans  & 95                    & Golden State Warriors & 111                   & 2016                  & 2015-10-27           \\\\\n",
       "\t Tue, Oct 27, 2015     & 8:00 pm               & Detroit Pistons       & 106                   & Atlanta Hawks         & 94                    & 2016                  & 2015-10-27           \\\\\n",
       "\t Tue, Oct 27, 2015     & 8:00 pm               & Cleveland Cavaliers   & 95                    & Chicago Bulls         & 97                    & 2016                  & 2015-10-27           \\\\\n",
       "\t Tue, Oct 27, 2015     & 10:30 pm              & New Orleans Pelicans  & 95                    & Golden State Warriors & 111                   & 2016                  & 2015-10-27           \\\\\n",
       "\\end{tabular}\n"
      ],
      "text/markdown": [
       "\n",
       "date | time | visitor | visitor_pts | home | home_pts | season | date2 | \n",
       "|---|---|---|---|---|---|\n",
       "| Tue, Oct 27, 2015     | 8:00 pm               | Detroit Pistons       | 106                   | Atlanta Hawks         | 94                    | 2016                  | 2015-10-27            | \n",
       "| Tue, Oct 27, 2015     | 8:00 pm               | Cleveland Cavaliers   | 95                    | Chicago Bulls         | 97                    | 2016                  | 2015-10-27            | \n",
       "| Tue, Oct 27, 2015     | 10:30 pm              | New Orleans Pelicans  | 95                    | Golden State Warriors | 111                   | 2016                  | 2015-10-27            | \n",
       "| Tue, Oct 27, 2015     | 8:00 pm               | Detroit Pistons       | 106                   | Atlanta Hawks         | 94                    | 2016                  | 2015-10-27            | \n",
       "| Tue, Oct 27, 2015     | 8:00 pm               | Cleveland Cavaliers   | 95                    | Chicago Bulls         | 97                    | 2016                  | 2015-10-27            | \n",
       "| Tue, Oct 27, 2015     | 10:30 pm              | New Orleans Pelicans  | 95                    | Golden State Warriors | 111                   | 2016                  | 2015-10-27            | \n",
       "\n",
       "\n"
      ],
      "text/plain": [
       "  date              time     visitor              visitor_pts\n",
       "1 Tue, Oct 27, 2015 8:00 pm  Detroit Pistons      106        \n",
       "2 Tue, Oct 27, 2015 8:00 pm  Cleveland Cavaliers  95         \n",
       "3 Tue, Oct 27, 2015 10:30 pm New Orleans Pelicans 95         \n",
       "4 Tue, Oct 27, 2015 8:00 pm  Detroit Pistons      106        \n",
       "5 Tue, Oct 27, 2015 8:00 pm  Cleveland Cavaliers  95         \n",
       "6 Tue, Oct 27, 2015 10:30 pm New Orleans Pelicans 95         \n",
       "  home                  home_pts season date2     \n",
       "1 Atlanta Hawks         94       2016   2015-10-27\n",
       "2 Chicago Bulls         97       2016   2015-10-27\n",
       "3 Golden State Warriors 111      2016   2015-10-27\n",
       "4 Atlanta Hawks         94       2016   2015-10-27\n",
       "5 Chicago Bulls         97       2016   2015-10-27\n",
       "6 Golden State Warriors 111      2016   2015-10-27"
      ]
     },
     "metadata": {},
     "output_type": "display_data"
    }
   ],
   "source": [
    "head(calendar)"
   ]
  }
 ],
 "metadata": {
  "kernelspec": {
   "display_name": "R",
   "language": "R",
   "name": "ir"
  },
  "language_info": {
   "codemirror_mode": "r",
   "file_extension": ".r",
   "mimetype": "text/x-r-source",
   "name": "R",
   "pygments_lexer": "r",
   "version": "3.3.2"
  }
 },
 "nbformat": 4,
 "nbformat_minor": 2
}

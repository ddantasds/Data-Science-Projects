{
 "cells": [
  {
   "cell_type": "code",
   "execution_count": 28,
   "metadata": {
    "collapsed": false
   },
   "outputs": [],
   "source": [
    "library(RCurl)\n",
    "library(XML)\n",
    "library(ggmap)\n",
    "library(dplyr)\n",
    "library(lubridate)"
   ]
  },
  {
   "cell_type": "markdown",
   "metadata": {},
   "source": [
    "# Overview\n",
    "\n",
    "NBA have 30 teams playing 82 games each during a regular season\n",
    "\n",
    "Can we optmize the NBA and provide a better with lower distance travel?"
   ]
  },
  {
   "cell_type": "code",
   "execution_count": null,
   "metadata": {
    "collapsed": true
   },
   "outputs": [],
   "source": []
  },
  {
   "cell_type": "markdown",
   "metadata": {},
   "source": [
    "# Data"
   ]
  },
  {
   "cell_type": "code",
   "execution_count": 3,
   "metadata": {
    "collapsed": true
   },
   "outputs": [],
   "source": [
    "calendar<-data.frame(\"date\"=as.character(),\n",
    "                     \"time\"=as.character(),\n",
    "                     \"visitor\"=as.character(),\n",
    "                     \"visitor_pts\"=as.numeric(),\n",
    "                     \"home\"=as.character(),\n",
    "                     \"home_pts\"=as.numeric())"
   ]
  },
  {
   "cell_type": "markdown",
   "metadata": {},
   "source": [
    "### Scrapping data from Internet\n",
    "\n",
    "Collecting the calendar from https://www.basketball-reference.com"
   ]
  },
  {
   "cell_type": "code",
   "execution_count": 5,
   "metadata": {
    "collapsed": false
   },
   "outputs": [],
   "source": [
    "months<-tolower(month.name)\n",
    "years<-2016\n",
    "\n",
    "for(j in 1:length(years)){\n",
    "  \n",
    "  url<-paste0(\"https://www.basketball-reference.com/leagues/NBA_\",years[j],\"_games-\",months[1],\".html\")\n",
    "  html <- xml2::read_html(url)\n",
    "  node <- rvest::html_node(html, \"table\")\n",
    "  table <- rvest::html_table(node, header = TRUE)\n",
    "  table<-table[,1:6]\n",
    "  \n",
    "  names(table)<-c(\"date\",\"time\",\"visitor\",\"visitor_pts\",\"home\",\"home_pts\")\n",
    "  \n",
    "  for(i in 2:length(months)){\n",
    "    url<-url<-paste0(\"https://www.basketball-reference.com/leagues/NBA_\",years[j],\"_games-\",months[i],\".html\")\n",
    "    if(url.exists(url)){\n",
    "      html <- xml2::read_html(url)\n",
    "      node <- rvest::html_node(html, \"table\")\n",
    "      aux <- rvest::html_table(node, header = TRUE)\n",
    "      aux<-aux[,1:6]\n",
    "      names(aux)<-c(\"date\",\"time\",\"visitor\",\"visitor_pts\",\"home\",\"home_pts\")\n",
    "      table<-rbind(table,aux)\n",
    "    }\n",
    "    else{\n",
    "      next\n",
    "    }\n",
    "  }\n",
    "  table$season<-years[j]\n",
    "  calendar<-rbind(calendar,table)\n",
    "}"
   ]
  },
  {
   "cell_type": "code",
   "execution_count": 6,
   "metadata": {
    "collapsed": false
   },
   "outputs": [
    {
     "data": {
      "text/html": [
       "<table>\n",
       "<thead><tr><th scope=col>date</th><th scope=col>time</th><th scope=col>visitor</th><th scope=col>visitor_pts</th><th scope=col>home</th><th scope=col>home_pts</th><th scope=col>season</th></tr></thead>\n",
       "<tbody>\n",
       "\t<tr><td>Fri, Jan 1, 2016  </td><td>8:00 pm           </td><td>New York Knicks   </td><td>81                </td><td>Chicago Bulls     </td><td>108               </td><td>2016              </td></tr>\n",
       "\t<tr><td>Fri, Jan 1, 2016  </td><td>10:30 pm          </td><td>Philadelphia 76ers</td><td>84                </td><td>Los Angeles Lakers</td><td>93                </td><td>2016              </td></tr>\n",
       "\t<tr><td>Fri, Jan 1, 2016  </td><td>7:30 pm           </td><td>Dallas Mavericks  </td><td>82                </td><td>Miami Heat        </td><td>106               </td><td>2016              </td></tr>\n",
       "\t<tr><td>Fri, Jan 1, 2016  </td><td>7:30 pm           </td><td>Charlotte Hornets </td><td>94                </td><td>Toronto Raptors   </td><td>104               </td><td>2016              </td></tr>\n",
       "\t<tr><td>Fri, Jan 1, 2016  </td><td>7:00 pm           </td><td>Orlando Magic     </td><td>91                </td><td>Washington Wizards</td><td>103               </td><td>2016              </td></tr>\n",
       "\t<tr><td>Sat, Jan 2, 2016  </td><td>3:00 pm           </td><td>Brooklyn Nets     </td><td>100               </td><td>Boston Celtics    </td><td>97                </td><td>2016              </td></tr>\n",
       "</tbody>\n",
       "</table>\n"
      ],
      "text/latex": [
       "\\begin{tabular}{r|lllllll}\n",
       " date & time & visitor & visitor\\_pts & home & home\\_pts & season\\\\\n",
       "\\hline\n",
       "\t Fri, Jan 1, 2016   & 8:00 pm            & New York Knicks    & 81                 & Chicago Bulls      & 108                & 2016              \\\\\n",
       "\t Fri, Jan 1, 2016   & 10:30 pm           & Philadelphia 76ers & 84                 & Los Angeles Lakers & 93                 & 2016              \\\\\n",
       "\t Fri, Jan 1, 2016   & 7:30 pm            & Dallas Mavericks   & 82                 & Miami Heat         & 106                & 2016              \\\\\n",
       "\t Fri, Jan 1, 2016   & 7:30 pm            & Charlotte Hornets  & 94                 & Toronto Raptors    & 104                & 2016              \\\\\n",
       "\t Fri, Jan 1, 2016   & 7:00 pm            & Orlando Magic      & 91                 & Washington Wizards & 103                & 2016              \\\\\n",
       "\t Sat, Jan 2, 2016   & 3:00 pm            & Brooklyn Nets      & 100                & Boston Celtics     & 97                 & 2016              \\\\\n",
       "\\end{tabular}\n"
      ],
      "text/markdown": [
       "\n",
       "date | time | visitor | visitor_pts | home | home_pts | season | \n",
       "|---|---|---|---|---|---|\n",
       "| Fri, Jan 1, 2016   | 8:00 pm            | New York Knicks    | 81                 | Chicago Bulls      | 108                | 2016               | \n",
       "| Fri, Jan 1, 2016   | 10:30 pm           | Philadelphia 76ers | 84                 | Los Angeles Lakers | 93                 | 2016               | \n",
       "| Fri, Jan 1, 2016   | 7:30 pm            | Dallas Mavericks   | 82                 | Miami Heat         | 106                | 2016               | \n",
       "| Fri, Jan 1, 2016   | 7:30 pm            | Charlotte Hornets  | 94                 | Toronto Raptors    | 104                | 2016               | \n",
       "| Fri, Jan 1, 2016   | 7:00 pm            | Orlando Magic      | 91                 | Washington Wizards | 103                | 2016               | \n",
       "| Sat, Jan 2, 2016   | 3:00 pm            | Brooklyn Nets      | 100                | Boston Celtics     | 97                 | 2016               | \n",
       "\n",
       "\n"
      ],
      "text/plain": [
       "  date             time     visitor            visitor_pts home              \n",
       "1 Fri, Jan 1, 2016 8:00 pm  New York Knicks    81          Chicago Bulls     \n",
       "2 Fri, Jan 1, 2016 10:30 pm Philadelphia 76ers 84          Los Angeles Lakers\n",
       "3 Fri, Jan 1, 2016 7:30 pm  Dallas Mavericks   82          Miami Heat        \n",
       "4 Fri, Jan 1, 2016 7:30 pm  Charlotte Hornets  94          Toronto Raptors   \n",
       "5 Fri, Jan 1, 2016 7:00 pm  Orlando Magic      91          Washington Wizards\n",
       "6 Sat, Jan 2, 2016 3:00 pm  Brooklyn Nets      100         Boston Celtics    \n",
       "  home_pts season\n",
       "1 108      2016  \n",
       "2 93       2016  \n",
       "3 106      2016  \n",
       "4 104      2016  \n",
       "5 103      2016  \n",
       "6 97       2016  "
      ]
     },
     "metadata": {},
     "output_type": "display_data"
    }
   ],
   "source": [
    "head(calendar)"
   ]
  },
  {
   "cell_type": "markdown",
   "metadata": {},
   "source": [
    "### Fixing date format"
   ]
  },
  {
   "cell_type": "code",
   "execution_count": 12,
   "metadata": {
    "collapsed": false
   },
   "outputs": [],
   "source": [
    "calendar$date2<-unlist(lapply(strsplit(gsub(\",\",\"\",calendar$date),\" \"),function(x) paste(x[2:4],collapse = \"-\")))\n",
    "calendar$date2<-as.Date(calendar$date2,\"%b-%d-%Y\")\n",
    "calendar<-calendar%>%\n",
    "  arrange(date2)"
   ]
  },
  {
   "cell_type": "code",
   "execution_count": 25,
   "metadata": {
    "collapsed": false
   },
   "outputs": [
    {
     "data": {
      "text/html": [
       "<table>\n",
       "<thead><tr><th scope=col>min(date2)</th><th scope=col>max(date2)</th></tr></thead>\n",
       "<tbody>\n",
       "\t<tr><td>2015-10-27</td><td>2016-06-19</td></tr>\n",
       "</tbody>\n",
       "</table>\n"
      ],
      "text/latex": [
       "\\begin{tabular}{r|ll}\n",
       " min(date2) & max(date2)\\\\\n",
       "\\hline\n",
       "\t 2015-10-27 & 2016-06-19\\\\\n",
       "\\end{tabular}\n"
      ],
      "text/markdown": [
       "\n",
       "min(date2) | max(date2) | \n",
       "|---|\n",
       "| 2015-10-27 | 2016-06-19 | \n",
       "\n",
       "\n"
      ],
      "text/plain": [
       "  min(date2) max(date2)\n",
       "1 2015-10-27 2016-06-19"
      ]
     },
     "metadata": {},
     "output_type": "display_data"
    }
   ],
   "source": [
    "calendar%>%\n",
    "    filter(complete.cases(.))%>%\n",
    "    group_by()%>%\n",
    "    summarise(min(date2),max(date2))"
   ]
  },
  {
   "cell_type": "markdown",
   "metadata": {},
   "source": [
    "For this calendar there are playoffs games and we are not interested on playoffs once we are evaluating the distance traveled during the regular season.\n",
    "\n",
    "The 2015-16 season ranged from 10-27-2015 to 04-13-2016 (https://en.wikipedia.org/wiki/2015%E2%80%9316_NBA_season)"
   ]
  },
  {
   "cell_type": "markdown",
   "metadata": {},
   "source": [
    "### Filter Regular Season Games"
   ]
  },
  {
   "cell_type": "code",
   "execution_count": 34,
   "metadata": {
    "collapsed": false
   },
   "outputs": [],
   "source": [
    "calendar<-calendar%>%\n",
    "            filter(date2<='2016-04-13')"
   ]
  },
  {
   "cell_type": "markdown",
   "metadata": {},
   "source": [
    "### Define Location of Games"
   ]
  },
  {
   "cell_type": "code",
   "execution_count": 35,
   "metadata": {
    "collapsed": true
   },
   "outputs": [],
   "source": [
    "calendar$home_location<-unlist(lapply(strsplit(calendar$home,\" \"),function(x) paste(x[1:(length(x)-1)],collapse=\" \")))\n",
    "calendar$visitor_location<-unlist(lapply(strsplit(calendar$visitor,\" \"),function(x) paste(x[1:(length(x)-1)],collapse=\" \")))"
   ]
  },
  {
   "cell_type": "code",
   "execution_count": 38,
   "metadata": {
    "collapsed": false
   },
   "outputs": [
    {
     "data": {
      "text/html": [
       "<ol class=list-inline>\n",
       "\t<li>'Atlanta'</li>\n",
       "\t<li>'Chicago'</li>\n",
       "\t<li>'Golden State'</li>\n",
       "\t<li>'Boston'</li>\n",
       "\t<li>'Brooklyn'</li>\n",
       "\t<li>'Detroit'</li>\n",
       "\t<li>'Houston'</li>\n",
       "\t<li>'Los Angeles'</li>\n",
       "\t<li>'Memphis'</li>\n",
       "\t<li>'Miami'</li>\n",
       "\t<li>'Milwaukee'</li>\n",
       "\t<li>'Oklahoma City'</li>\n",
       "\t<li>'Orlando'</li>\n",
       "\t<li>'Phoenix'</li>\n",
       "\t<li>'Portland Trail'</li>\n",
       "\t<li>'Sacramento'</li>\n",
       "\t<li>'Toronto'</li>\n",
       "\t<li>'Indiana'</li>\n",
       "\t<li>'New York'</li>\n",
       "\t<li>'Cleveland'</li>\n",
       "\t<li>'Denver'</li>\n",
       "\t<li>'Philadelphia'</li>\n",
       "\t<li>'San Antonio'</li>\n",
       "\t<li>'New Orleans'</li>\n",
       "\t<li>'Washington'</li>\n",
       "\t<li>'Charlotte'</li>\n",
       "\t<li>'Minnesota'</li>\n",
       "\t<li>'Dallas'</li>\n",
       "\t<li>'Utah'</li>\n",
       "</ol>\n"
      ],
      "text/latex": [
       "\\begin{enumerate*}\n",
       "\\item 'Atlanta'\n",
       "\\item 'Chicago'\n",
       "\\item 'Golden State'\n",
       "\\item 'Boston'\n",
       "\\item 'Brooklyn'\n",
       "\\item 'Detroit'\n",
       "\\item 'Houston'\n",
       "\\item 'Los Angeles'\n",
       "\\item 'Memphis'\n",
       "\\item 'Miami'\n",
       "\\item 'Milwaukee'\n",
       "\\item 'Oklahoma City'\n",
       "\\item 'Orlando'\n",
       "\\item 'Phoenix'\n",
       "\\item 'Portland Trail'\n",
       "\\item 'Sacramento'\n",
       "\\item 'Toronto'\n",
       "\\item 'Indiana'\n",
       "\\item 'New York'\n",
       "\\item 'Cleveland'\n",
       "\\item 'Denver'\n",
       "\\item 'Philadelphia'\n",
       "\\item 'San Antonio'\n",
       "\\item 'New Orleans'\n",
       "\\item 'Washington'\n",
       "\\item 'Charlotte'\n",
       "\\item 'Minnesota'\n",
       "\\item 'Dallas'\n",
       "\\item 'Utah'\n",
       "\\end{enumerate*}\n"
      ],
      "text/markdown": [
       "1. 'Atlanta'\n",
       "2. 'Chicago'\n",
       "3. 'Golden State'\n",
       "4. 'Boston'\n",
       "5. 'Brooklyn'\n",
       "6. 'Detroit'\n",
       "7. 'Houston'\n",
       "8. 'Los Angeles'\n",
       "9. 'Memphis'\n",
       "10. 'Miami'\n",
       "11. 'Milwaukee'\n",
       "12. 'Oklahoma City'\n",
       "13. 'Orlando'\n",
       "14. 'Phoenix'\n",
       "15. 'Portland Trail'\n",
       "16. 'Sacramento'\n",
       "17. 'Toronto'\n",
       "18. 'Indiana'\n",
       "19. 'New York'\n",
       "20. 'Cleveland'\n",
       "21. 'Denver'\n",
       "22. 'Philadelphia'\n",
       "23. 'San Antonio'\n",
       "24. 'New Orleans'\n",
       "25. 'Washington'\n",
       "26. 'Charlotte'\n",
       "27. 'Minnesota'\n",
       "28. 'Dallas'\n",
       "29. 'Utah'\n",
       "\n",
       "\n"
      ],
      "text/plain": [
       " [1] \"Atlanta\"        \"Chicago\"        \"Golden State\"   \"Boston\"        \n",
       " [5] \"Brooklyn\"       \"Detroit\"        \"Houston\"        \"Los Angeles\"   \n",
       " [9] \"Memphis\"        \"Miami\"          \"Milwaukee\"      \"Oklahoma City\" \n",
       "[13] \"Orlando\"        \"Phoenix\"        \"Portland Trail\" \"Sacramento\"    \n",
       "[17] \"Toronto\"        \"Indiana\"        \"New York\"       \"Cleveland\"     \n",
       "[21] \"Denver\"         \"Philadelphia\"   \"San Antonio\"    \"New Orleans\"   \n",
       "[25] \"Washington\"     \"Charlotte\"      \"Minnesota\"      \"Dallas\"        \n",
       "[29] \"Utah\"          "
      ]
     },
     "metadata": {},
     "output_type": "display_data"
    }
   ],
   "source": [
    "unique(calendar$home_location)"
   ]
  },
  {
   "cell_type": "markdown",
   "metadata": {},
   "source": [
    "Based on the name of the home team we can identify the game location. For example, when the home team is 'Chicago Bulls' we know the game was hosted in Chicago.\n",
    "\n",
    "In a simple example, for a match between 'Chicago Bulls' and 'Memphis Grizzles' where the home team is 'Chicago Bulls' we assume that there was travel from Memphis to Chicago."
   ]
  },
  {
   "cell_type": "code",
   "execution_count": null,
   "metadata": {
    "collapsed": true
   },
   "outputs": [],
   "source": []
  }
 ],
 "metadata": {
  "kernelspec": {
   "display_name": "R",
   "language": "R",
   "name": "ir"
  },
  "language_info": {
   "codemirror_mode": "r",
   "file_extension": ".r",
   "mimetype": "text/x-r-source",
   "name": "R",
   "pygments_lexer": "r",
   "version": "3.3.2"
  }
 },
 "nbformat": 4,
 "nbformat_minor": 2
}

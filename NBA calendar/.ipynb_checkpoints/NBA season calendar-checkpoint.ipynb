{
 "cells": [
  {
   "cell_type": "code",
   "execution_count": 28,
   "metadata": {
    "collapsed": false,
    "deletable": true,
    "editable": true
   },
   "outputs": [],
   "source": [
    "library(RCurl)\n",
    "library(XML)\n",
    "library(ggmap)\n",
    "library(dplyr)\n",
    "library(lubridate)"
   ]
  },
  {
   "cell_type": "markdown",
   "metadata": {
    "deletable": true,
    "editable": true
   },
   "source": [
    "# Overview\n",
    "\n",
    "NBA have 30 teams playing 82 games each during a regular season\n",
    "\n",
    "Can we optmize the NBA and provide a better with lower distance travel?"
   ]
  },
  {
   "cell_type": "code",
   "execution_count": null,
   "metadata": {
    "collapsed": true,
    "deletable": true,
    "editable": true
   },
   "outputs": [],
   "source": []
  },
  {
   "cell_type": "markdown",
   "metadata": {
    "deletable": true,
    "editable": true
   },
   "source": [
    "# Data"
   ]
  },
  {
   "cell_type": "code",
   "execution_count": 79,
   "metadata": {
    "collapsed": true,
    "deletable": true,
    "editable": true
   },
   "outputs": [],
   "source": [
    "calendar<-data.frame(\"date\"=as.character(),\n",
    "                     \"time\"=as.character(),\n",
    "                     \"visitor\"=as.character(),\n",
    "                     \"visitor_pts\"=as.numeric(),\n",
    "                     \"home\"=as.character(),\n",
    "                     \"home_pts\"=as.numeric())"
   ]
  },
  {
   "cell_type": "markdown",
   "metadata": {
    "deletable": true,
    "editable": true
   },
   "source": [
    "### Scrapping data from Internet\n",
    "\n",
    "Collecting the calendar from https://www.basketball-reference.com"
   ]
  },
  {
   "cell_type": "code",
   "execution_count": 80,
   "metadata": {
    "collapsed": false,
    "deletable": true,
    "editable": true
   },
   "outputs": [],
   "source": [
    "months<-tolower(month.name)\n",
    "years<-2016\n",
    "\n",
    "for(j in 1:length(years)){\n",
    "  \n",
    "  url<-paste0(\"https://www.basketball-reference.com/leagues/NBA_\",years[j],\"_games-\",months[1],\".html\")\n",
    "  html <- xml2::read_html(url)\n",
    "  node <- rvest::html_node(html, \"table\")\n",
    "  table <- rvest::html_table(node, header = TRUE)\n",
    "  table<-table[,1:6]\n",
    "  \n",
    "  names(table)<-c(\"date\",\"time\",\"visitor\",\"visitor_pts\",\"home\",\"home_pts\")\n",
    "  \n",
    "  for(i in 2:length(months)){\n",
    "    url<-url<-paste0(\"https://www.basketball-reference.com/leagues/NBA_\",years[j],\"_games-\",months[i],\".html\")\n",
    "    if(url.exists(url)){\n",
    "      html <- xml2::read_html(url)\n",
    "      node <- rvest::html_node(html, \"table\")\n",
    "      aux <- rvest::html_table(node, header = TRUE)\n",
    "      aux<-aux[,1:6]\n",
    "      names(aux)<-c(\"date\",\"time\",\"visitor\",\"visitor_pts\",\"home\",\"home_pts\")\n",
    "      table<-rbind(table,aux)\n",
    "    }\n",
    "    else{\n",
    "      next\n",
    "    }\n",
    "  }\n",
    "  table$season<-years[j]\n",
    "  calendar<-rbind(calendar,table)\n",
    "}"
   ]
  },
  {
   "cell_type": "code",
   "execution_count": 97,
   "metadata": {
    "collapsed": false,
    "deletable": true,
    "editable": true
   },
   "outputs": [
    {
     "data": {
      "text/html": [
       "82"
      ],
      "text/latex": [
       "82"
      ],
      "text/markdown": [
       "82"
      ],
      "text/plain": [
       "[1] 82"
      ]
     },
     "metadata": {},
     "output_type": "display_data"
    }
   ],
   "source": [
    "calendar%>%\n",
    "  filter((home==\"Los Angeles Lakers\" | visitor==\"Los Angeles Lakers\"))%>%\n",
    "arrange(date2)%>%\n",
    "nrow()"
   ]
  },
  {
   "cell_type": "code",
   "execution_count": 6,
   "metadata": {
    "collapsed": false,
    "deletable": true,
    "editable": true
   },
   "outputs": [
    {
     "data": {
      "text/html": [
       "<table>\n",
       "<thead><tr><th scope=col>date</th><th scope=col>time</th><th scope=col>visitor</th><th scope=col>visitor_pts</th><th scope=col>home</th><th scope=col>home_pts</th><th scope=col>season</th></tr></thead>\n",
       "<tbody>\n",
       "\t<tr><td>Fri, Jan 1, 2016  </td><td>8:00 pm           </td><td>New York Knicks   </td><td>81                </td><td>Chicago Bulls     </td><td>108               </td><td>2016              </td></tr>\n",
       "\t<tr><td>Fri, Jan 1, 2016  </td><td>10:30 pm          </td><td>Philadelphia 76ers</td><td>84                </td><td>Los Angeles Lakers</td><td>93                </td><td>2016              </td></tr>\n",
       "\t<tr><td>Fri, Jan 1, 2016  </td><td>7:30 pm           </td><td>Dallas Mavericks  </td><td>82                </td><td>Miami Heat        </td><td>106               </td><td>2016              </td></tr>\n",
       "\t<tr><td>Fri, Jan 1, 2016  </td><td>7:30 pm           </td><td>Charlotte Hornets </td><td>94                </td><td>Toronto Raptors   </td><td>104               </td><td>2016              </td></tr>\n",
       "\t<tr><td>Fri, Jan 1, 2016  </td><td>7:00 pm           </td><td>Orlando Magic     </td><td>91                </td><td>Washington Wizards</td><td>103               </td><td>2016              </td></tr>\n",
       "\t<tr><td>Sat, Jan 2, 2016  </td><td>3:00 pm           </td><td>Brooklyn Nets     </td><td>100               </td><td>Boston Celtics    </td><td>97                </td><td>2016              </td></tr>\n",
       "</tbody>\n",
       "</table>\n"
      ],
      "text/latex": [
       "\\begin{tabular}{r|lllllll}\n",
       " date & time & visitor & visitor\\_pts & home & home\\_pts & season\\\\\n",
       "\\hline\n",
       "\t Fri, Jan 1, 2016   & 8:00 pm            & New York Knicks    & 81                 & Chicago Bulls      & 108                & 2016              \\\\\n",
       "\t Fri, Jan 1, 2016   & 10:30 pm           & Philadelphia 76ers & 84                 & Los Angeles Lakers & 93                 & 2016              \\\\\n",
       "\t Fri, Jan 1, 2016   & 7:30 pm            & Dallas Mavericks   & 82                 & Miami Heat         & 106                & 2016              \\\\\n",
       "\t Fri, Jan 1, 2016   & 7:30 pm            & Charlotte Hornets  & 94                 & Toronto Raptors    & 104                & 2016              \\\\\n",
       "\t Fri, Jan 1, 2016   & 7:00 pm            & Orlando Magic      & 91                 & Washington Wizards & 103                & 2016              \\\\\n",
       "\t Sat, Jan 2, 2016   & 3:00 pm            & Brooklyn Nets      & 100                & Boston Celtics     & 97                 & 2016              \\\\\n",
       "\\end{tabular}\n"
      ],
      "text/markdown": [
       "\n",
       "date | time | visitor | visitor_pts | home | home_pts | season | \n",
       "|---|---|---|---|---|---|\n",
       "| Fri, Jan 1, 2016   | 8:00 pm            | New York Knicks    | 81                 | Chicago Bulls      | 108                | 2016               | \n",
       "| Fri, Jan 1, 2016   | 10:30 pm           | Philadelphia 76ers | 84                 | Los Angeles Lakers | 93                 | 2016               | \n",
       "| Fri, Jan 1, 2016   | 7:30 pm            | Dallas Mavericks   | 82                 | Miami Heat         | 106                | 2016               | \n",
       "| Fri, Jan 1, 2016   | 7:30 pm            | Charlotte Hornets  | 94                 | Toronto Raptors    | 104                | 2016               | \n",
       "| Fri, Jan 1, 2016   | 7:00 pm            | Orlando Magic      | 91                 | Washington Wizards | 103                | 2016               | \n",
       "| Sat, Jan 2, 2016   | 3:00 pm            | Brooklyn Nets      | 100                | Boston Celtics     | 97                 | 2016               | \n",
       "\n",
       "\n"
      ],
      "text/plain": [
       "  date             time     visitor            visitor_pts home              \n",
       "1 Fri, Jan 1, 2016 8:00 pm  New York Knicks    81          Chicago Bulls     \n",
       "2 Fri, Jan 1, 2016 10:30 pm Philadelphia 76ers 84          Los Angeles Lakers\n",
       "3 Fri, Jan 1, 2016 7:30 pm  Dallas Mavericks   82          Miami Heat        \n",
       "4 Fri, Jan 1, 2016 7:30 pm  Charlotte Hornets  94          Toronto Raptors   \n",
       "5 Fri, Jan 1, 2016 7:00 pm  Orlando Magic      91          Washington Wizards\n",
       "6 Sat, Jan 2, 2016 3:00 pm  Brooklyn Nets      100         Boston Celtics    \n",
       "  home_pts season\n",
       "1 108      2016  \n",
       "2 93       2016  \n",
       "3 106      2016  \n",
       "4 104      2016  \n",
       "5 103      2016  \n",
       "6 97       2016  "
      ]
     },
     "metadata": {},
     "output_type": "display_data"
    }
   ],
   "source": [
    "head(calendar)"
   ]
  },
  {
   "cell_type": "markdown",
   "metadata": {
    "deletable": true,
    "editable": true
   },
   "source": [
    "### Fixing date format"
   ]
  },
  {
   "cell_type": "code",
   "execution_count": 85,
   "metadata": {
    "collapsed": false,
    "deletable": true,
    "editable": true
   },
   "outputs": [],
   "source": [
    "calendar$date2<-unlist(lapply(strsplit(gsub(\",\",\"\",calendar$date),\" \"),function(x) paste(x[2:4],collapse = \"-\")))\n",
    "calendar$date2<-as.Date(calendar$date2,\"%b-%d-%Y\")\n",
    "calendar<-calendar%>%\n",
    "  arrange(date2)"
   ]
  },
  {
   "cell_type": "code",
   "execution_count": 90,
   "metadata": {
    "collapsed": false,
    "deletable": true,
    "editable": true
   },
   "outputs": [
    {
     "data": {
      "text/html": [
       "<table>\n",
       "<thead><tr><th scope=col>min(date2)</th><th scope=col>max(date2)</th></tr></thead>\n",
       "<tbody>\n",
       "\t<tr><td>2015-10-27</td><td>2016-06-19</td></tr>\n",
       "</tbody>\n",
       "</table>\n"
      ],
      "text/latex": [
       "\\begin{tabular}{r|ll}\n",
       " min(date2) & max(date2)\\\\\n",
       "\\hline\n",
       "\t 2015-10-27 & 2016-06-19\\\\\n",
       "\\end{tabular}\n"
      ],
      "text/markdown": [
       "\n",
       "min(date2) | max(date2) | \n",
       "|---|\n",
       "| 2015-10-27 | 2016-06-19 | \n",
       "\n",
       "\n"
      ],
      "text/plain": [
       "  min(date2) max(date2)\n",
       "1 2015-10-27 2016-06-19"
      ]
     },
     "metadata": {},
     "output_type": "display_data"
    }
   ],
   "source": [
    "calendar%>%\n",
    "    filter(complete.cases(.))%>%\n",
    "    group_by()%>%\n",
    "    summarise(min(date2),max(date2))"
   ]
  },
  {
   "cell_type": "markdown",
   "metadata": {
    "deletable": true,
    "editable": true
   },
   "source": [
    "For this calendar there are playoffs games and we are not interested on playoffs once we are evaluating the distance traveled during the regular season.\n",
    "\n",
    "The 2015-16 season ranged from 10-27-2015 to 04-13-2016 (https://en.wikipedia.org/wiki/2015%E2%80%9316_NBA_season)"
   ]
  },
  {
   "cell_type": "markdown",
   "metadata": {
    "deletable": true,
    "editable": true
   },
   "source": [
    "### Filter Regular Season Games"
   ]
  },
  {
   "cell_type": "code",
   "execution_count": 126,
   "metadata": {
    "collapsed": false,
    "deletable": true,
    "editable": true
   },
   "outputs": [],
   "source": [
    "calendar<-calendar%>%\n",
    "            filter(date2<='2016-04-13')"
   ]
  },
  {
   "cell_type": "code",
   "execution_count": 127,
   "metadata": {
    "collapsed": false,
    "deletable": true,
    "editable": true
   },
   "outputs": [
    {
     "data": {
      "text/html": [
       "<dl class=dl-horizontal>\n",
       "\t<dt>Atlanta Hawks</dt>\n",
       "\t\t<dd>82</dd>\n",
       "\t<dt>Chicago Bulls</dt>\n",
       "\t\t<dd>82</dd>\n",
       "\t<dt>Golden State Warriors</dt>\n",
       "\t\t<dd>82</dd>\n",
       "\t<dt>Boston Celtics</dt>\n",
       "\t\t<dd>82</dd>\n",
       "\t<dt>Brooklyn Nets</dt>\n",
       "\t\t<dd>82</dd>\n",
       "\t<dt>Detroit Pistons</dt>\n",
       "\t\t<dd>82</dd>\n",
       "\t<dt>Houston Rockets</dt>\n",
       "\t\t<dd>82</dd>\n",
       "\t<dt>Los Angeles Lakers</dt>\n",
       "\t\t<dd>82</dd>\n",
       "\t<dt>Memphis Grizzlies</dt>\n",
       "\t\t<dd>82</dd>\n",
       "\t<dt>Miami Heat</dt>\n",
       "\t\t<dd>82</dd>\n",
       "\t<dt>Milwaukee Bucks</dt>\n",
       "\t\t<dd>82</dd>\n",
       "\t<dt>Oklahoma City Thunder</dt>\n",
       "\t\t<dd>82</dd>\n",
       "\t<dt>Orlando Magic</dt>\n",
       "\t\t<dd>82</dd>\n",
       "\t<dt>Phoenix Suns</dt>\n",
       "\t\t<dd>82</dd>\n",
       "\t<dt>Portland Trail Blazers</dt>\n",
       "\t\t<dd>82</dd>\n",
       "\t<dt>Sacramento Kings</dt>\n",
       "\t\t<dd>82</dd>\n",
       "\t<dt>Toronto Raptors</dt>\n",
       "\t\t<dd>82</dd>\n",
       "\t<dt>Indiana Pacers</dt>\n",
       "\t\t<dd>82</dd>\n",
       "\t<dt>Los Angeles Clippers</dt>\n",
       "\t\t<dd>82</dd>\n",
       "\t<dt>New York Knicks</dt>\n",
       "\t\t<dd>82</dd>\n",
       "\t<dt>Cleveland Cavaliers</dt>\n",
       "\t\t<dd>82</dd>\n",
       "\t<dt>Denver Nuggets</dt>\n",
       "\t\t<dd>82</dd>\n",
       "\t<dt>Philadelphia 76ers</dt>\n",
       "\t\t<dd>82</dd>\n",
       "\t<dt>San Antonio Spurs</dt>\n",
       "\t\t<dd>82</dd>\n",
       "\t<dt>New Orleans Pelicans</dt>\n",
       "\t\t<dd>82</dd>\n",
       "\t<dt>Washington Wizards</dt>\n",
       "\t\t<dd>82</dd>\n",
       "\t<dt>Charlotte Hornets</dt>\n",
       "\t\t<dd>82</dd>\n",
       "\t<dt>Minnesota Timberwolves</dt>\n",
       "\t\t<dd>82</dd>\n",
       "\t<dt>Dallas Mavericks</dt>\n",
       "\t\t<dd>82</dd>\n",
       "\t<dt>Utah Jazz</dt>\n",
       "\t\t<dd>82</dd>\n",
       "</dl>\n"
      ],
      "text/latex": [
       "\\begin{description*}\n",
       "\\item[Atlanta Hawks] 82\n",
       "\\item[Chicago Bulls] 82\n",
       "\\item[Golden State Warriors] 82\n",
       "\\item[Boston Celtics] 82\n",
       "\\item[Brooklyn Nets] 82\n",
       "\\item[Detroit Pistons] 82\n",
       "\\item[Houston Rockets] 82\n",
       "\\item[Los Angeles Lakers] 82\n",
       "\\item[Memphis Grizzlies] 82\n",
       "\\item[Miami Heat] 82\n",
       "\\item[Milwaukee Bucks] 82\n",
       "\\item[Oklahoma City Thunder] 82\n",
       "\\item[Orlando Magic] 82\n",
       "\\item[Phoenix Suns] 82\n",
       "\\item[Portland Trail Blazers] 82\n",
       "\\item[Sacramento Kings] 82\n",
       "\\item[Toronto Raptors] 82\n",
       "\\item[Indiana Pacers] 82\n",
       "\\item[Los Angeles Clippers] 82\n",
       "\\item[New York Knicks] 82\n",
       "\\item[Cleveland Cavaliers] 82\n",
       "\\item[Denver Nuggets] 82\n",
       "\\item[Philadelphia 76ers] 82\n",
       "\\item[San Antonio Spurs] 82\n",
       "\\item[New Orleans Pelicans] 82\n",
       "\\item[Washington Wizards] 82\n",
       "\\item[Charlotte Hornets] 82\n",
       "\\item[Minnesota Timberwolves] 82\n",
       "\\item[Dallas Mavericks] 82\n",
       "\\item[Utah Jazz] 82\n",
       "\\end{description*}\n"
      ],
      "text/markdown": [
       "Atlanta Hawks\n",
       ":   82Chicago Bulls\n",
       ":   82Golden State Warriors\n",
       ":   82Boston Celtics\n",
       ":   82Brooklyn Nets\n",
       ":   82Detroit Pistons\n",
       ":   82Houston Rockets\n",
       ":   82Los Angeles Lakers\n",
       ":   82Memphis Grizzlies\n",
       ":   82Miami Heat\n",
       ":   82Milwaukee Bucks\n",
       ":   82Oklahoma City Thunder\n",
       ":   82Orlando Magic\n",
       ":   82Phoenix Suns\n",
       ":   82Portland Trail Blazers\n",
       ":   82Sacramento Kings\n",
       ":   82Toronto Raptors\n",
       ":   82Indiana Pacers\n",
       ":   82Los Angeles Clippers\n",
       ":   82New York Knicks\n",
       ":   82Cleveland Cavaliers\n",
       ":   82Denver Nuggets\n",
       ":   82Philadelphia 76ers\n",
       ":   82San Antonio Spurs\n",
       ":   82New Orleans Pelicans\n",
       ":   82Washington Wizards\n",
       ":   82Charlotte Hornets\n",
       ":   82Minnesota Timberwolves\n",
       ":   82Dallas Mavericks\n",
       ":   82Utah Jazz\n",
       ":   82\n",
       "\n"
      ],
      "text/plain": [
       "         Atlanta Hawks          Chicago Bulls  Golden State Warriors \n",
       "                    82                     82                     82 \n",
       "        Boston Celtics          Brooklyn Nets        Detroit Pistons \n",
       "                    82                     82                     82 \n",
       "       Houston Rockets     Los Angeles Lakers      Memphis Grizzlies \n",
       "                    82                     82                     82 \n",
       "            Miami Heat        Milwaukee Bucks  Oklahoma City Thunder \n",
       "                    82                     82                     82 \n",
       "         Orlando Magic           Phoenix Suns Portland Trail Blazers \n",
       "                    82                     82                     82 \n",
       "      Sacramento Kings        Toronto Raptors         Indiana Pacers \n",
       "                    82                     82                     82 \n",
       "  Los Angeles Clippers        New York Knicks    Cleveland Cavaliers \n",
       "                    82                     82                     82 \n",
       "        Denver Nuggets     Philadelphia 76ers      San Antonio Spurs \n",
       "                    82                     82                     82 \n",
       "  New Orleans Pelicans     Washington Wizards      Charlotte Hornets \n",
       "                    82                     82                     82 \n",
       "Minnesota Timberwolves       Dallas Mavericks              Utah Jazz \n",
       "                    82                     82                     82 "
      ]
     },
     "metadata": {},
     "output_type": "display_data"
    }
   ],
   "source": [
    "# Check if every team have 82 games\n",
    "sapply(unique(calendar$home),\n",
    "       function(x) calendar%>%\n",
    "  filter((home==x | visitor==x))%>%\n",
    "  nrow())"
   ]
  },
  {
   "cell_type": "markdown",
   "metadata": {
    "deletable": true,
    "editable": true
   },
   "source": [
    "### Define Location of Games"
   ]
  },
  {
   "cell_type": "code",
   "execution_count": 93,
   "metadata": {
    "collapsed": true,
    "deletable": true,
    "editable": true
   },
   "outputs": [],
   "source": [
    "calendar$home_location<-unlist(lapply(strsplit(calendar$home,\" \"),function(x) paste(x[1:(length(x)-1)],collapse=\" \")))\n",
    "calendar$visitor_location<-unlist(lapply(strsplit(calendar$visitor,\" \"),function(x) paste(x[1:(length(x)-1)],collapse=\" \")))"
   ]
  },
  {
   "cell_type": "code",
   "execution_count": 95,
   "metadata": {
    "collapsed": false,
    "deletable": true,
    "editable": true
   },
   "outputs": [
    {
     "data": {
      "text/html": [
       "<ol class=list-inline>\n",
       "\t<li>'Atlanta'</li>\n",
       "\t<li>'Chicago'</li>\n",
       "\t<li>'Golden State'</li>\n",
       "\t<li>'Boston'</li>\n",
       "\t<li>'Brooklyn'</li>\n",
       "\t<li>'Detroit'</li>\n",
       "\t<li>'Houston'</li>\n",
       "\t<li>'Los Angeles'</li>\n",
       "\t<li>'Memphis'</li>\n",
       "\t<li>'Miami'</li>\n",
       "\t<li>'Milwaukee'</li>\n",
       "\t<li>'Oklahoma City'</li>\n",
       "\t<li>'Orlando'</li>\n",
       "\t<li>'Phoenix'</li>\n",
       "\t<li>'Portland Trail'</li>\n",
       "\t<li>'Sacramento'</li>\n",
       "\t<li>'Toronto'</li>\n",
       "\t<li>'Indiana'</li>\n",
       "\t<li>'New York'</li>\n",
       "\t<li>'Cleveland'</li>\n",
       "\t<li>'Denver'</li>\n",
       "\t<li>'Philadelphia'</li>\n",
       "\t<li>'San Antonio'</li>\n",
       "\t<li>'New Orleans'</li>\n",
       "\t<li>'Washington'</li>\n",
       "\t<li>'Charlotte'</li>\n",
       "\t<li>'Minnesota'</li>\n",
       "\t<li>'Dallas'</li>\n",
       "\t<li>'Utah'</li>\n",
       "</ol>\n"
      ],
      "text/latex": [
       "\\begin{enumerate*}\n",
       "\\item 'Atlanta'\n",
       "\\item 'Chicago'\n",
       "\\item 'Golden State'\n",
       "\\item 'Boston'\n",
       "\\item 'Brooklyn'\n",
       "\\item 'Detroit'\n",
       "\\item 'Houston'\n",
       "\\item 'Los Angeles'\n",
       "\\item 'Memphis'\n",
       "\\item 'Miami'\n",
       "\\item 'Milwaukee'\n",
       "\\item 'Oklahoma City'\n",
       "\\item 'Orlando'\n",
       "\\item 'Phoenix'\n",
       "\\item 'Portland Trail'\n",
       "\\item 'Sacramento'\n",
       "\\item 'Toronto'\n",
       "\\item 'Indiana'\n",
       "\\item 'New York'\n",
       "\\item 'Cleveland'\n",
       "\\item 'Denver'\n",
       "\\item 'Philadelphia'\n",
       "\\item 'San Antonio'\n",
       "\\item 'New Orleans'\n",
       "\\item 'Washington'\n",
       "\\item 'Charlotte'\n",
       "\\item 'Minnesota'\n",
       "\\item 'Dallas'\n",
       "\\item 'Utah'\n",
       "\\end{enumerate*}\n"
      ],
      "text/markdown": [
       "1. 'Atlanta'\n",
       "2. 'Chicago'\n",
       "3. 'Golden State'\n",
       "4. 'Boston'\n",
       "5. 'Brooklyn'\n",
       "6. 'Detroit'\n",
       "7. 'Houston'\n",
       "8. 'Los Angeles'\n",
       "9. 'Memphis'\n",
       "10. 'Miami'\n",
       "11. 'Milwaukee'\n",
       "12. 'Oklahoma City'\n",
       "13. 'Orlando'\n",
       "14. 'Phoenix'\n",
       "15. 'Portland Trail'\n",
       "16. 'Sacramento'\n",
       "17. 'Toronto'\n",
       "18. 'Indiana'\n",
       "19. 'New York'\n",
       "20. 'Cleveland'\n",
       "21. 'Denver'\n",
       "22. 'Philadelphia'\n",
       "23. 'San Antonio'\n",
       "24. 'New Orleans'\n",
       "25. 'Washington'\n",
       "26. 'Charlotte'\n",
       "27. 'Minnesota'\n",
       "28. 'Dallas'\n",
       "29. 'Utah'\n",
       "\n",
       "\n"
      ],
      "text/plain": [
       " [1] \"Atlanta\"        \"Chicago\"        \"Golden State\"   \"Boston\"        \n",
       " [5] \"Brooklyn\"       \"Detroit\"        \"Houston\"        \"Los Angeles\"   \n",
       " [9] \"Memphis\"        \"Miami\"          \"Milwaukee\"      \"Oklahoma City\" \n",
       "[13] \"Orlando\"        \"Phoenix\"        \"Portland Trail\" \"Sacramento\"    \n",
       "[17] \"Toronto\"        \"Indiana\"        \"New York\"       \"Cleveland\"     \n",
       "[21] \"Denver\"         \"Philadelphia\"   \"San Antonio\"    \"New Orleans\"   \n",
       "[25] \"Washington\"     \"Charlotte\"      \"Minnesota\"      \"Dallas\"        \n",
       "[29] \"Utah\"          "
      ]
     },
     "metadata": {},
     "output_type": "display_data"
    }
   ],
   "source": [
    "unique(calendar$home_location)"
   ]
  },
  {
   "cell_type": "markdown",
   "metadata": {
    "deletable": true,
    "editable": true
   },
   "source": [
    "Based on the name of the home team we can identify the game location. For example, when the home team is 'Chicago Bulls' we know the game was hosted in Chicago.\n",
    "\n",
    "In a simple example, for a match between 'Chicago Bulls' and 'Memphis Grizzles' where the home team is 'Chicago Bulls' we assume that there was travel from Memphis to Chicago."
   ]
  },
  {
   "cell_type": "markdown",
   "metadata": {
    "deletable": true,
    "editable": true
   },
   "source": [
    "Even though the home_location was able to identify the location of games we still had to do some manual adjustments. For example, Golden State -> San Franciso"
   ]
  },
  {
   "cell_type": "code",
   "execution_count": 142,
   "metadata": {
    "collapsed": true,
    "deletable": true,
    "editable": true
   },
   "outputs": [],
   "source": [
    "calendar$home_location[calendar$home_location==\"Portland Trail\"]<-\"Portland\"\n",
    "calendar$home_location[calendar$home_location==\"Utah\"]<-\"Salt Lake City\"\n",
    "calendar$home_location[calendar$home_location==\"Indiana\"]<-\"Indianapolis\"\n",
    "calendar$home_location[calendar$home_location==\"Minnesota\"]<-\"Minneapolis\"\n",
    "calendar$home_location[calendar$home_location==\"Golden State\"]<-\"San Francisco\"\n",
    "calendar$home_location[calendar$home_location==\"Washington\"]<-\"Washington D.C.\""
   ]
  },
  {
   "cell_type": "markdown",
   "metadata": {
    "deletable": true,
    "editable": true
   },
   "source": [
    "### Latitude and Longitude for the Cities where the Teams are located"
   ]
  },
  {
   "cell_type": "code",
   "execution_count": 43,
   "metadata": {
    "collapsed": false,
    "deletable": true,
    "editable": true
   },
   "outputs": [
    {
     "name": "stderr",
     "output_type": "stream",
     "text": [
      "Information from URL : http://maps.googleapis.com/maps/api/geocode/json?address=Atlanta&sensor=false\n",
      "Information from URL : http://maps.googleapis.com/maps/api/geocode/json?address=Chicago&sensor=false\n",
      "Information from URL : http://maps.googleapis.com/maps/api/geocode/json?address=San+Francisco&sensor=false\n",
      "Information from URL : http://maps.googleapis.com/maps/api/geocode/json?address=Boston&sensor=false\n",
      "Information from URL : http://maps.googleapis.com/maps/api/geocode/json?address=Brooklyn&sensor=false\n",
      "Information from URL : http://maps.googleapis.com/maps/api/geocode/json?address=Detroit&sensor=false\n",
      "Information from URL : http://maps.googleapis.com/maps/api/geocode/json?address=Houston&sensor=false\n",
      "Information from URL : http://maps.googleapis.com/maps/api/geocode/json?address=Los+Angeles&sensor=false\n",
      "Information from URL : http://maps.googleapis.com/maps/api/geocode/json?address=Memphis&sensor=false\n",
      "Information from URL : http://maps.googleapis.com/maps/api/geocode/json?address=Miami&sensor=false\n",
      ".Information from URL : http://maps.googleapis.com/maps/api/geocode/json?address=Milwaukee&sensor=false\n",
      ".Information from URL : http://maps.googleapis.com/maps/api/geocode/json?address=Oklahoma+City&sensor=false\n",
      ".Information from URL : http://maps.googleapis.com/maps/api/geocode/json?address=Orlando&sensor=false\n",
      ".Information from URL : http://maps.googleapis.com/maps/api/geocode/json?address=Phoenix&sensor=false\n",
      ".Information from URL : http://maps.googleapis.com/maps/api/geocode/json?address=Portland&sensor=false\n",
      ".Information from URL : http://maps.googleapis.com/maps/api/geocode/json?address=Sacramento&sensor=false\n",
      ".Information from URL : http://maps.googleapis.com/maps/api/geocode/json?address=Toronto&sensor=false\n",
      "Information from URL : http://maps.googleapis.com/maps/api/geocode/json?address=Indianapolis&sensor=false\n",
      "Information from URL : http://maps.googleapis.com/maps/api/geocode/json?address=New+York&sensor=false\n",
      "Information from URL : http://maps.googleapis.com/maps/api/geocode/json?address=Cleveland&sensor=false\n",
      ".Information from URL : http://maps.googleapis.com/maps/api/geocode/json?address=Denver&sensor=false\n",
      ".Information from URL : http://maps.googleapis.com/maps/api/geocode/json?address=Philadelphia&sensor=false\n",
      ".Information from URL : http://maps.googleapis.com/maps/api/geocode/json?address=San+Antonio&sensor=false\n",
      ".Information from URL : http://maps.googleapis.com/maps/api/geocode/json?address=New+Orleans&sensor=false\n",
      ".Information from URL : http://maps.googleapis.com/maps/api/geocode/json?address=Washington&sensor=false\n",
      ".Information from URL : http://maps.googleapis.com/maps/api/geocode/json?address=Charlotte&sensor=false\n",
      "Information from URL : http://maps.googleapis.com/maps/api/geocode/json?address=Minneapolis&sensor=false\n",
      "Information from URL : http://maps.googleapis.com/maps/api/geocode/json?address=Dallas&sensor=false\n",
      "Information from URL : http://maps.googleapis.com/maps/api/geocode/json?address=Salt+Lake+City&sensor=false\n"
     ]
    }
   ],
   "source": [
    "cities<-unique(calendar$home_location)\n",
    "pos<-geocode(cities)\n",
    "citiesLocation<-data.frame(cities,pos)"
   ]
  },
  {
   "cell_type": "code",
   "execution_count": 44,
   "metadata": {
    "collapsed": false,
    "deletable": true,
    "editable": true
   },
   "outputs": [
    {
     "data": {
      "text/html": [
       "<table>\n",
       "<thead><tr><th scope=col>cities</th><th scope=col>lon</th><th scope=col>lat</th></tr></thead>\n",
       "<tbody>\n",
       "\t<tr><td>Atlanta      </td><td> -84.38798   </td><td>33.74900     </td></tr>\n",
       "\t<tr><td>Chicago      </td><td> -87.62980   </td><td>41.87811     </td></tr>\n",
       "\t<tr><td>San Francisco</td><td>-122.41942   </td><td>37.77493     </td></tr>\n",
       "\t<tr><td>Boston       </td><td> -71.05888   </td><td>42.36008     </td></tr>\n",
       "\t<tr><td>Brooklyn     </td><td> -73.94416   </td><td>40.67818     </td></tr>\n",
       "\t<tr><td>Detroit      </td><td> -83.04575   </td><td>42.33143     </td></tr>\n",
       "</tbody>\n",
       "</table>\n"
      ],
      "text/latex": [
       "\\begin{tabular}{r|lll}\n",
       " cities & lon & lat\\\\\n",
       "\\hline\n",
       "\t Atlanta       &  -84.38798    & 33.74900     \\\\\n",
       "\t Chicago       &  -87.62980    & 41.87811     \\\\\n",
       "\t San Francisco & -122.41942    & 37.77493     \\\\\n",
       "\t Boston        &  -71.05888    & 42.36008     \\\\\n",
       "\t Brooklyn      &  -73.94416    & 40.67818     \\\\\n",
       "\t Detroit       &  -83.04575    & 42.33143     \\\\\n",
       "\\end{tabular}\n"
      ],
      "text/markdown": [
       "\n",
       "cities | lon | lat | \n",
       "|---|---|---|---|---|---|\n",
       "| Atlanta       |  -84.38798    | 33.74900      | \n",
       "| Chicago       |  -87.62980    | 41.87811      | \n",
       "| San Francisco | -122.41942    | 37.77493      | \n",
       "| Boston        |  -71.05888    | 42.36008      | \n",
       "| Brooklyn      |  -73.94416    | 40.67818      | \n",
       "| Detroit       |  -83.04575    | 42.33143      | \n",
       "\n",
       "\n"
      ],
      "text/plain": [
       "  cities        lon        lat     \n",
       "1 Atlanta        -84.38798 33.74900\n",
       "2 Chicago        -87.62980 41.87811\n",
       "3 San Francisco -122.41942 37.77493\n",
       "4 Boston         -71.05888 42.36008\n",
       "5 Brooklyn       -73.94416 40.67818\n",
       "6 Detroit        -83.04575 42.33143"
      ]
     },
     "metadata": {},
     "output_type": "display_data"
    }
   ],
   "source": [
    "head(citiesLocation)"
   ]
  },
  {
   "cell_type": "markdown",
   "metadata": {
    "deletable": true,
    "editable": true
   },
   "source": [
    "### Calculate the Distance between Teams based on Latitude and Longitude"
   ]
  },
  {
   "cell_type": "code",
   "execution_count": 40,
   "metadata": {
    "collapsed": true,
    "deletable": true,
    "editable": true
   },
   "outputs": [],
   "source": [
    "# Function to calculate distance in kilometers between two points\n",
    "# reference: http://andrew.hedges.name/experiments/haversine/\n",
    "earth.dist <- function (lon1, lat1, lon2, lat2, R)\n",
    "{\n",
    "  rad <- pi/180\n",
    "  a1 <- lat1 * rad\n",
    "  a2 <- lon1 * rad\n",
    "  b1 <- lat2 * rad\n",
    "  b2 <- lon2 * rad\n",
    "  dlon <- b2 - a2\n",
    "  dlat <- b1 - a1\n",
    "  a <- (sin(dlat/2))^2 + cos(a1) * cos(b1) * (sin(dlon/2))^2\n",
    "  c <- 2 * atan2(sqrt(a), sqrt(1 - a))\n",
    "  d <- R * c\n",
    "  real.d <- min(abs((R*2) - d), d)\n",
    "  return(real.d)\n",
    "}"
   ]
  },
  {
   "cell_type": "code",
   "execution_count": 53,
   "metadata": {
    "collapsed": true,
    "deletable": true,
    "editable": true
   },
   "outputs": [],
   "source": [
    "distance<-expand.grid(unique(calendar$home_location),unique(calendar$home_location))\n",
    "names(distance)<-c(\"team1\",\"team2\")\n",
    "\n",
    "distance<-merge(x=distance,\n",
    "                y=citiesLocation,\n",
    "                by.x=\"team1\",\n",
    "                by.y=\"cities\",\n",
    "                all.x=TRUE)\n",
    "names(distance)[3:4]<-c(\"lon1\",\"lat1\")\n",
    "\n",
    "distance<-merge(x=distance,\n",
    "                y=citiesLocation,\n",
    "                by.x=\"team2\",\n",
    "                by.y=\"cities\",\n",
    "                all.x=TRUE)\n",
    "names(distance)[5:6]<-c(\"lon2\",\"lat2\")"
   ]
  },
  {
   "cell_type": "markdown",
   "metadata": {
    "deletable": true,
    "editable": true
   },
   "source": [
    "All Combinations"
   ]
  },
  {
   "cell_type": "code",
   "execution_count": 98,
   "metadata": {
    "collapsed": false,
    "deletable": true,
    "editable": true
   },
   "outputs": [
    {
     "data": {
      "text/html": [
       "<table>\n",
       "<thead><tr><th scope=col>team2</th><th scope=col>team1</th><th scope=col>lon1</th><th scope=col>lat1</th><th scope=col>lon2</th><th scope=col>lat2</th><th scope=col>distanceKM</th></tr></thead>\n",
       "<tbody>\n",
       "\t<tr><td>Atlanta    </td><td>Atlanta    </td><td> -84.38798 </td><td>33.74900   </td><td>-84.38798  </td><td>33.749     </td><td>   0.000   </td></tr>\n",
       "\t<tr><td>Atlanta    </td><td>New York   </td><td> -74.00594 </td><td>40.71278   </td><td>-84.38798  </td><td>33.749     </td><td>1201.665   </td></tr>\n",
       "\t<tr><td>Atlanta    </td><td>Phoenix    </td><td>-112.07404 </td><td>33.44838   </td><td>-84.38798  </td><td>33.749     </td><td>2559.549   </td></tr>\n",
       "\t<tr><td>Atlanta    </td><td>Denver     </td><td>-104.99025 </td><td>39.73924   </td><td>-84.38798  </td><td>33.749     </td><td>1949.539   </td></tr>\n",
       "\t<tr><td>Atlanta    </td><td>San Antonio</td><td> -98.49363 </td><td>29.42412   </td><td>-84.38798  </td><td>33.749     </td><td>1420.095   </td></tr>\n",
       "\t<tr><td>Atlanta    </td><td>Milwaukee  </td><td> -87.90647 </td><td>43.03890   </td><td>-84.38798  </td><td>33.749     </td><td>1078.468   </td></tr>\n",
       "</tbody>\n",
       "</table>\n"
      ],
      "text/latex": [
       "\\begin{tabular}{r|lllllll}\n",
       " team2 & team1 & lon1 & lat1 & lon2 & lat2 & distanceKM\\\\\n",
       "\\hline\n",
       "\t Atlanta     & Atlanta     &  -84.38798  & 33.74900    & -84.38798   & 33.749      &    0.000   \\\\\n",
       "\t Atlanta     & New York    &  -74.00594  & 40.71278    & -84.38798   & 33.749      & 1201.665   \\\\\n",
       "\t Atlanta     & Phoenix     & -112.07404  & 33.44838    & -84.38798   & 33.749      & 2559.549   \\\\\n",
       "\t Atlanta     & Denver      & -104.99025  & 39.73924    & -84.38798   & 33.749      & 1949.539   \\\\\n",
       "\t Atlanta     & San Antonio &  -98.49363  & 29.42412    & -84.38798   & 33.749      & 1420.095   \\\\\n",
       "\t Atlanta     & Milwaukee   &  -87.90647  & 43.03890    & -84.38798   & 33.749      & 1078.468   \\\\\n",
       "\\end{tabular}\n"
      ],
      "text/markdown": [
       "\n",
       "team2 | team1 | lon1 | lat1 | lon2 | lat2 | distanceKM | \n",
       "|---|---|---|---|---|---|\n",
       "| Atlanta     | Atlanta     |  -84.38798  | 33.74900    | -84.38798   | 33.749      |    0.000    | \n",
       "| Atlanta     | New York    |  -74.00594  | 40.71278    | -84.38798   | 33.749      | 1201.665    | \n",
       "| Atlanta     | Phoenix     | -112.07404  | 33.44838    | -84.38798   | 33.749      | 2559.549    | \n",
       "| Atlanta     | Denver      | -104.99025  | 39.73924    | -84.38798   | 33.749      | 1949.539    | \n",
       "| Atlanta     | San Antonio |  -98.49363  | 29.42412    | -84.38798   | 33.749      | 1420.095    | \n",
       "| Atlanta     | Milwaukee   |  -87.90647  | 43.03890    | -84.38798   | 33.749      | 1078.468    | \n",
       "\n",
       "\n"
      ],
      "text/plain": [
       "  team2   team1       lon1       lat1     lon2      lat2   distanceKM\n",
       "1 Atlanta Atlanta      -84.38798 33.74900 -84.38798 33.749    0.000  \n",
       "2 Atlanta New York     -74.00594 40.71278 -84.38798 33.749 1201.665  \n",
       "3 Atlanta Phoenix     -112.07404 33.44838 -84.38798 33.749 2559.549  \n",
       "4 Atlanta Denver      -104.99025 39.73924 -84.38798 33.749 1949.539  \n",
       "5 Atlanta San Antonio  -98.49363 29.42412 -84.38798 33.749 1420.095  \n",
       "6 Atlanta Milwaukee    -87.90647 43.03890 -84.38798 33.749 1078.468  "
      ]
     },
     "metadata": {},
     "output_type": "display_data"
    }
   ],
   "source": [
    "head(distance)"
   ]
  },
  {
   "cell_type": "code",
   "execution_count": 55,
   "metadata": {
    "collapsed": true,
    "deletable": true,
    "editable": true
   },
   "outputs": [],
   "source": [
    "result<-rep(NA,nrow(distance))\n",
    "for(i in 1:nrow(distance)){\n",
    "  result[i]<-earth.dist(distance$lon1[i],distance$lat1[i],distance$lon2[i],distance$lat2[i],R=6378.145)\n",
    "}\n",
    "distance$distanceKM<-result"
   ]
  },
  {
   "cell_type": "code",
   "execution_count": 57,
   "metadata": {
    "collapsed": false,
    "deletable": true,
    "editable": true
   },
   "outputs": [
    {
     "data": {
      "text/html": [
       "<table>\n",
       "<thead><tr><th scope=col>team2</th><th scope=col>team1</th><th scope=col>lon1</th><th scope=col>lat1</th><th scope=col>lon2</th><th scope=col>lat2</th><th scope=col>distanceKM</th></tr></thead>\n",
       "<tbody>\n",
       "\t<tr><td>Atlanta    </td><td>Atlanta    </td><td> -84.38798 </td><td>33.74900   </td><td>-84.38798  </td><td>33.749     </td><td>   0.000   </td></tr>\n",
       "\t<tr><td>Atlanta    </td><td>New York   </td><td> -74.00594 </td><td>40.71278   </td><td>-84.38798  </td><td>33.749     </td><td>1201.665   </td></tr>\n",
       "\t<tr><td>Atlanta    </td><td>Phoenix    </td><td>-112.07404 </td><td>33.44838   </td><td>-84.38798  </td><td>33.749     </td><td>2559.549   </td></tr>\n",
       "\t<tr><td>Atlanta    </td><td>Denver     </td><td>-104.99025 </td><td>39.73924   </td><td>-84.38798  </td><td>33.749     </td><td>1949.539   </td></tr>\n",
       "\t<tr><td>Atlanta    </td><td>San Antonio</td><td> -98.49363 </td><td>29.42412   </td><td>-84.38798  </td><td>33.749     </td><td>1420.095   </td></tr>\n",
       "\t<tr><td>Atlanta    </td><td>Milwaukee  </td><td> -87.90647 </td><td>43.03890   </td><td>-84.38798  </td><td>33.749     </td><td>1078.468   </td></tr>\n",
       "</tbody>\n",
       "</table>\n"
      ],
      "text/latex": [
       "\\begin{tabular}{r|lllllll}\n",
       " team2 & team1 & lon1 & lat1 & lon2 & lat2 & distanceKM\\\\\n",
       "\\hline\n",
       "\t Atlanta     & Atlanta     &  -84.38798  & 33.74900    & -84.38798   & 33.749      &    0.000   \\\\\n",
       "\t Atlanta     & New York    &  -74.00594  & 40.71278    & -84.38798   & 33.749      & 1201.665   \\\\\n",
       "\t Atlanta     & Phoenix     & -112.07404  & 33.44838    & -84.38798   & 33.749      & 2559.549   \\\\\n",
       "\t Atlanta     & Denver      & -104.99025  & 39.73924    & -84.38798   & 33.749      & 1949.539   \\\\\n",
       "\t Atlanta     & San Antonio &  -98.49363  & 29.42412    & -84.38798   & 33.749      & 1420.095   \\\\\n",
       "\t Atlanta     & Milwaukee   &  -87.90647  & 43.03890    & -84.38798   & 33.749      & 1078.468   \\\\\n",
       "\\end{tabular}\n"
      ],
      "text/markdown": [
       "\n",
       "team2 | team1 | lon1 | lat1 | lon2 | lat2 | distanceKM | \n",
       "|---|---|---|---|---|---|\n",
       "| Atlanta     | Atlanta     |  -84.38798  | 33.74900    | -84.38798   | 33.749      |    0.000    | \n",
       "| Atlanta     | New York    |  -74.00594  | 40.71278    | -84.38798   | 33.749      | 1201.665    | \n",
       "| Atlanta     | Phoenix     | -112.07404  | 33.44838    | -84.38798   | 33.749      | 2559.549    | \n",
       "| Atlanta     | Denver      | -104.99025  | 39.73924    | -84.38798   | 33.749      | 1949.539    | \n",
       "| Atlanta     | San Antonio |  -98.49363  | 29.42412    | -84.38798   | 33.749      | 1420.095    | \n",
       "| Atlanta     | Milwaukee   |  -87.90647  | 43.03890    | -84.38798   | 33.749      | 1078.468    | \n",
       "\n",
       "\n"
      ],
      "text/plain": [
       "  team2   team1       lon1       lat1     lon2      lat2   distanceKM\n",
       "1 Atlanta Atlanta      -84.38798 33.74900 -84.38798 33.749    0.000  \n",
       "2 Atlanta New York     -74.00594 40.71278 -84.38798 33.749 1201.665  \n",
       "3 Atlanta Phoenix     -112.07404 33.44838 -84.38798 33.749 2559.549  \n",
       "4 Atlanta Denver      -104.99025 39.73924 -84.38798 33.749 1949.539  \n",
       "5 Atlanta San Antonio  -98.49363 29.42412 -84.38798 33.749 1420.095  \n",
       "6 Atlanta Milwaukee    -87.90647 43.03890 -84.38798 33.749 1078.468  "
      ]
     },
     "metadata": {},
     "output_type": "display_data"
    }
   ],
   "source": [
    "head(distance)"
   ]
  },
  {
   "cell_type": "markdown",
   "metadata": {
    "deletable": true,
    "editable": true
   },
   "source": [
    "### Function to calculate Distance traveled by a Team during the season\n",
    "\n",
    "This function returns a data frame with flights for a specific team during the season"
   ]
  },
  {
   "cell_type": "code",
   "execution_count": 115,
   "metadata": {
    "collapsed": true,
    "deletable": true,
    "editable": true
   },
   "outputs": [],
   "source": [
    "nbaFlightsByTeam<-function(base,team){\n",
    "  aux<-base%>%\n",
    "    filter((home==team | visitor==team))%>%\n",
    "    arrange(date2)\n",
    "  \n",
    "  initial = names(tail(sort(table(aux$home_location)),1))\n",
    "  \n",
    "  flight_from = c(initial,rep(NA,nrow(aux)-1))\n",
    "  flight_to = c(rep(NA,(nrow(aux)-1)),initial)\n",
    "  d = rep(NA,nrow(aux))\n",
    "  \n",
    "  for(i in 1:(nrow(aux)-1)){\n",
    "    flight_to[i] = aux$home_location[i]\n",
    "    flight_from[i+1] = flight_to[i]\n",
    "    d[i] = distance$distance[which(distance$team1==flight_from[i] & distance$team2==flight_to[i])]\n",
    "  }\n",
    "  d[nrow(aux)] = distance$distance[which(distance$team1==flight_from[nrow(aux)] & distance$team2==flight_to[nrow(aux)])]\n",
    "  return(data.frame(flight_from,flight_to,\"distance\"=d))\n",
    "}"
   ]
  },
  {
   "cell_type": "code",
   "execution_count": 100,
   "metadata": {
    "collapsed": false,
    "deletable": true,
    "editable": true
   },
   "outputs": [],
   "source": [
    "PHI_flights<-nbaFlightsByTeam(calendar,\"Philadelphia 76ers\")"
   ]
  },
  {
   "cell_type": "code",
   "execution_count": 101,
   "metadata": {
    "collapsed": false,
    "deletable": true,
    "editable": true
   },
   "outputs": [
    {
     "data": {
      "text/html": [
       "<table>\n",
       "<thead><tr><th scope=col>flight_from</th><th scope=col>flight_to</th><th scope=col>distance</th></tr></thead>\n",
       "<tbody>\n",
       "\t<tr><td>Philadelphia</td><td>Boston      </td><td> 436.1181   </td></tr>\n",
       "\t<tr><td>Boston      </td><td>Philadelphia</td><td> 436.1181   </td></tr>\n",
       "\t<tr><td>Philadelphia</td><td>Philadelphia</td><td>   0.0000   </td></tr>\n",
       "\t<tr><td>Philadelphia</td><td>Milwaukee   </td><td>1115.2003   </td></tr>\n",
       "\t<tr><td>Milwaukee   </td><td>Cleveland   </td><td> 539.5069   </td></tr>\n",
       "\t<tr><td>Cleveland   </td><td>Philadelphia</td><td> 576.9254   </td></tr>\n",
       "</tbody>\n",
       "</table>\n"
      ],
      "text/latex": [
       "\\begin{tabular}{r|lll}\n",
       " flight\\_from & flight\\_to & distance\\\\\n",
       "\\hline\n",
       "\t Philadelphia & Boston       &  436.1181   \\\\\n",
       "\t Boston       & Philadelphia &  436.1181   \\\\\n",
       "\t Philadelphia & Philadelphia &    0.0000   \\\\\n",
       "\t Philadelphia & Milwaukee    & 1115.2003   \\\\\n",
       "\t Milwaukee    & Cleveland    &  539.5069   \\\\\n",
       "\t Cleveland    & Philadelphia &  576.9254   \\\\\n",
       "\\end{tabular}\n"
      ],
      "text/markdown": [
       "\n",
       "flight_from | flight_to | distance | \n",
       "|---|---|---|---|---|---|\n",
       "| Philadelphia | Boston       |  436.1181    | \n",
       "| Boston       | Philadelphia |  436.1181    | \n",
       "| Philadelphia | Philadelphia |    0.0000    | \n",
       "| Philadelphia | Milwaukee    | 1115.2003    | \n",
       "| Milwaukee    | Cleveland    |  539.5069    | \n",
       "| Cleveland    | Philadelphia |  576.9254    | \n",
       "\n",
       "\n"
      ],
      "text/plain": [
       "  flight_from  flight_to    distance \n",
       "1 Philadelphia Boston        436.1181\n",
       "2 Boston       Philadelphia  436.1181\n",
       "3 Philadelphia Philadelphia    0.0000\n",
       "4 Philadelphia Milwaukee    1115.2003\n",
       "5 Milwaukee    Cleveland     539.5069\n",
       "6 Cleveland    Philadelphia  576.9254"
      ]
     },
     "metadata": {},
     "output_type": "display_data"
    }
   ],
   "source": [
    "head(PHI_flights)"
   ]
  },
  {
   "cell_type": "markdown",
   "metadata": {
    "deletable": true,
    "editable": true
   },
   "source": [
    "To get the total kilometers traveled by the Philadelphia 76ers during the 2015-16 regular season we just have to sum the variable distance."
   ]
  },
  {
   "cell_type": "code",
   "execution_count": 108,
   "metadata": {
    "collapsed": false,
    "deletable": true,
    "editable": true
   },
   "outputs": [
    {
     "data": {
      "text/html": [
       "75620.3841074576"
      ],
      "text/latex": [
       "75620.3841074576"
      ],
      "text/markdown": [
       "75620.3841074576"
      ],
      "text/plain": [
       "[1] 75620.38"
      ]
     },
     "metadata": {},
     "output_type": "display_data"
    }
   ],
   "source": [
    "sum(PHI_flights$distance) #75620.3841074576"
   ]
  },
  {
   "cell_type": "code",
   "execution_count": 109,
   "metadata": {
    "collapsed": false,
    "deletable": true,
    "editable": true
   },
   "outputs": [],
   "source": [
    "lal<-nbaFlightsByTeam(calendar,\"Los Angeles Lakers\")"
   ]
  },
  {
   "cell_type": "code",
   "execution_count": 111,
   "metadata": {
    "collapsed": false,
    "deletable": true,
    "editable": true
   },
   "outputs": [
    {
     "data": {
      "text/html": [
       "78106.9400997549"
      ],
      "text/latex": [
       "78106.9400997549"
      ],
      "text/markdown": [
       "78106.9400997549"
      ],
      "text/plain": [
       "[1] 78106.94"
      ]
     },
     "metadata": {},
     "output_type": "display_data"
    }
   ],
   "source": [
    "sum(lal$distance) #78106.9400997549"
   ]
  },
  {
   "cell_type": "code",
   "execution_count": 125,
   "metadata": {
    "collapsed": false,
    "deletable": true,
    "editable": true
   },
   "outputs": [
    {
     "data": {
      "text/html": [
       "90774.723034815"
      ],
      "text/latex": [
       "90774.723034815"
      ],
      "text/markdown": [
       "90774.723034815"
      ],
      "text/plain": [
       "[1] 90774.72"
      ]
     },
     "metadata": {},
     "output_type": "display_data"
    }
   ],
   "source": [
    "sum(nbaFlightsByTeam(calendar,\"Miami Heat\")$distance)"
   ]
  },
  {
   "cell_type": "code",
   "execution_count": 113,
   "metadata": {
    "collapsed": false,
    "deletable": true,
    "editable": true
   },
   "outputs": [
    {
     "data": {
      "text/html": [
       "<ol class=list-inline>\n",
       "\t<li>'Atlanta Hawks'</li>\n",
       "\t<li>'Chicago Bulls'</li>\n",
       "\t<li>'Golden State Warriors'</li>\n",
       "\t<li>'Boston Celtics'</li>\n",
       "\t<li>'Brooklyn Nets'</li>\n",
       "\t<li>'Detroit Pistons'</li>\n",
       "\t<li>'Houston Rockets'</li>\n",
       "\t<li>'Los Angeles Lakers'</li>\n",
       "\t<li>'Memphis Grizzlies'</li>\n",
       "\t<li>'Miami Heat'</li>\n",
       "\t<li>'Milwaukee Bucks'</li>\n",
       "\t<li>'Oklahoma City Thunder'</li>\n",
       "\t<li>'Orlando Magic'</li>\n",
       "\t<li>'Phoenix Suns'</li>\n",
       "\t<li>'Portland Trail Blazers'</li>\n",
       "\t<li>'Sacramento Kings'</li>\n",
       "\t<li>'Toronto Raptors'</li>\n",
       "\t<li>'Indiana Pacers'</li>\n",
       "\t<li>'Los Angeles Clippers'</li>\n",
       "\t<li>'New York Knicks'</li>\n",
       "\t<li>'Cleveland Cavaliers'</li>\n",
       "\t<li>'Denver Nuggets'</li>\n",
       "\t<li>'Philadelphia 76ers'</li>\n",
       "\t<li>'San Antonio Spurs'</li>\n",
       "\t<li>'New Orleans Pelicans'</li>\n",
       "\t<li>'Washington Wizards'</li>\n",
       "\t<li>'Charlotte Hornets'</li>\n",
       "\t<li>'Minnesota Timberwolves'</li>\n",
       "\t<li>'Dallas Mavericks'</li>\n",
       "\t<li>'Utah Jazz'</li>\n",
       "</ol>\n"
      ],
      "text/latex": [
       "\\begin{enumerate*}\n",
       "\\item 'Atlanta Hawks'\n",
       "\\item 'Chicago Bulls'\n",
       "\\item 'Golden State Warriors'\n",
       "\\item 'Boston Celtics'\n",
       "\\item 'Brooklyn Nets'\n",
       "\\item 'Detroit Pistons'\n",
       "\\item 'Houston Rockets'\n",
       "\\item 'Los Angeles Lakers'\n",
       "\\item 'Memphis Grizzlies'\n",
       "\\item 'Miami Heat'\n",
       "\\item 'Milwaukee Bucks'\n",
       "\\item 'Oklahoma City Thunder'\n",
       "\\item 'Orlando Magic'\n",
       "\\item 'Phoenix Suns'\n",
       "\\item 'Portland Trail Blazers'\n",
       "\\item 'Sacramento Kings'\n",
       "\\item 'Toronto Raptors'\n",
       "\\item 'Indiana Pacers'\n",
       "\\item 'Los Angeles Clippers'\n",
       "\\item 'New York Knicks'\n",
       "\\item 'Cleveland Cavaliers'\n",
       "\\item 'Denver Nuggets'\n",
       "\\item 'Philadelphia 76ers'\n",
       "\\item 'San Antonio Spurs'\n",
       "\\item 'New Orleans Pelicans'\n",
       "\\item 'Washington Wizards'\n",
       "\\item 'Charlotte Hornets'\n",
       "\\item 'Minnesota Timberwolves'\n",
       "\\item 'Dallas Mavericks'\n",
       "\\item 'Utah Jazz'\n",
       "\\end{enumerate*}\n"
      ],
      "text/markdown": [
       "1. 'Atlanta Hawks'\n",
       "2. 'Chicago Bulls'\n",
       "3. 'Golden State Warriors'\n",
       "4. 'Boston Celtics'\n",
       "5. 'Brooklyn Nets'\n",
       "6. 'Detroit Pistons'\n",
       "7. 'Houston Rockets'\n",
       "8. 'Los Angeles Lakers'\n",
       "9. 'Memphis Grizzlies'\n",
       "10. 'Miami Heat'\n",
       "11. 'Milwaukee Bucks'\n",
       "12. 'Oklahoma City Thunder'\n",
       "13. 'Orlando Magic'\n",
       "14. 'Phoenix Suns'\n",
       "15. 'Portland Trail Blazers'\n",
       "16. 'Sacramento Kings'\n",
       "17. 'Toronto Raptors'\n",
       "18. 'Indiana Pacers'\n",
       "19. 'Los Angeles Clippers'\n",
       "20. 'New York Knicks'\n",
       "21. 'Cleveland Cavaliers'\n",
       "22. 'Denver Nuggets'\n",
       "23. 'Philadelphia 76ers'\n",
       "24. 'San Antonio Spurs'\n",
       "25. 'New Orleans Pelicans'\n",
       "26. 'Washington Wizards'\n",
       "27. 'Charlotte Hornets'\n",
       "28. 'Minnesota Timberwolves'\n",
       "29. 'Dallas Mavericks'\n",
       "30. 'Utah Jazz'\n",
       "\n",
       "\n"
      ],
      "text/plain": [
       " [1] \"Atlanta Hawks\"          \"Chicago Bulls\"          \"Golden State Warriors\" \n",
       " [4] \"Boston Celtics\"         \"Brooklyn Nets\"          \"Detroit Pistons\"       \n",
       " [7] \"Houston Rockets\"        \"Los Angeles Lakers\"     \"Memphis Grizzlies\"     \n",
       "[10] \"Miami Heat\"             \"Milwaukee Bucks\"        \"Oklahoma City Thunder\" \n",
       "[13] \"Orlando Magic\"          \"Phoenix Suns\"           \"Portland Trail Blazers\"\n",
       "[16] \"Sacramento Kings\"       \"Toronto Raptors\"        \"Indiana Pacers\"        \n",
       "[19] \"Los Angeles Clippers\"   \"New York Knicks\"        \"Cleveland Cavaliers\"   \n",
       "[22] \"Denver Nuggets\"         \"Philadelphia 76ers\"     \"San Antonio Spurs\"     \n",
       "[25] \"New Orleans Pelicans\"   \"Washington Wizards\"     \"Charlotte Hornets\"     \n",
       "[28] \"Minnesota Timberwolves\" \"Dallas Mavericks\"       \"Utah Jazz\"             "
      ]
     },
     "metadata": {},
     "output_type": "display_data"
    }
   ],
   "source": [
    "teams <- unique(calendar$home)"
   ]
  },
  {
   "cell_type": "code",
   "execution_count": 122,
   "metadata": {
    "collapsed": false,
    "deletable": true,
    "editable": true
   },
   "outputs": [],
   "source": [
    "total_distance_by_team<-sapply(teams,function(x) sum(nbaFlightsByTeam(calendar,x)$distance))"
   ]
  },
  {
   "cell_type": "code",
   "execution_count": 123,
   "metadata": {
    "collapsed": false,
    "deletable": true,
    "editable": true
   },
   "outputs": [
    {
     "data": {
      "text/html": [
       "<dl class=dl-horizontal>\n",
       "\t<dt>Washington Wizards</dt>\n",
       "\t\t<dd>162390.79249428</dd>\n",
       "\t<dt>Miami Heat</dt>\n",
       "\t\t<dd>90774.723034815</dd>\n",
       "\t<dt>Boston Celtics</dt>\n",
       "\t\t<dd>89905.2014179597</dd>\n",
       "\t<dt>Orlando Magic</dt>\n",
       "\t\t<dd>88898.8876585554</dd>\n",
       "\t<dt>Golden State Warriors</dt>\n",
       "\t\t<dd>87413.0180373452</dd>\n",
       "\t<dt>Minnesota Timberwolves</dt>\n",
       "\t\t<dd>86649.3575392695</dd>\n",
       "\t<dt>San Antonio Spurs</dt>\n",
       "\t\t<dd>84908.7771131942</dd>\n",
       "\t<dt>Portland Trail Blazers</dt>\n",
       "\t\t<dd>84162.6407696086</dd>\n",
       "\t<dt>Houston Rockets</dt>\n",
       "\t\t<dd>82513.9601189975</dd>\n",
       "\t<dt>Sacramento Kings</dt>\n",
       "\t\t<dd>81895.3524800496</dd>\n",
       "\t<dt>Memphis Grizzlies</dt>\n",
       "\t\t<dd>80901.2596970622</dd>\n",
       "\t<dt>Phoenix Suns</dt>\n",
       "\t\t<dd>79741.6880092132</dd>\n",
       "\t<dt>Dallas Mavericks</dt>\n",
       "\t\t<dd>78689.609713861</dd>\n",
       "\t<dt>Los Angeles Lakers</dt>\n",
       "\t\t<dd>78106.9400997549</dd>\n",
       "\t<dt>Oklahoma City Thunder</dt>\n",
       "\t\t<dd>78004.532472809</dd>\n",
       "\t<dt>New Orleans Pelicans</dt>\n",
       "\t\t<dd>77235.0452195018</dd>\n",
       "\t<dt>Utah Jazz</dt>\n",
       "\t\t<dd>76250.5617452304</dd>\n",
       "\t<dt>Philadelphia 76ers</dt>\n",
       "\t\t<dd>75620.3841074576</dd>\n",
       "\t<dt>Los Angeles Clippers</dt>\n",
       "\t\t<dd>75281.2246144345</dd>\n",
       "\t<dt>Atlanta Hawks</dt>\n",
       "\t\t<dd>74646.7406899963</dd>\n",
       "\t<dt>Denver Nuggets</dt>\n",
       "\t\t<dd>74320.815159516</dd>\n",
       "\t<dt>Charlotte Hornets</dt>\n",
       "\t\t<dd>74156.5834878511</dd>\n",
       "\t<dt>New York Knicks</dt>\n",
       "\t\t<dd>73635.4347897638</dd>\n",
       "\t<dt>Chicago Bulls</dt>\n",
       "\t\t<dd>71553.1539265964</dd>\n",
       "\t<dt>Toronto Raptors</dt>\n",
       "\t\t<dd>71370.7537846694</dd>\n",
       "\t<dt>Milwaukee Bucks</dt>\n",
       "\t\t<dd>71173.3079974254</dd>\n",
       "\t<dt>Brooklyn Nets</dt>\n",
       "\t\t<dd>69089.2339753818</dd>\n",
       "\t<dt>Detroit Pistons</dt>\n",
       "\t\t<dd>68647.6981426709</dd>\n",
       "\t<dt>Indiana Pacers</dt>\n",
       "\t\t<dd>66332.2533917296</dd>\n",
       "\t<dt>Cleveland Cavaliers</dt>\n",
       "\t\t<dd>65417.5979489366</dd>\n",
       "</dl>\n"
      ],
      "text/latex": [
       "\\begin{description*}\n",
       "\\item[Washington Wizards] 162390.79249428\n",
       "\\item[Miami Heat] 90774.723034815\n",
       "\\item[Boston Celtics] 89905.2014179597\n",
       "\\item[Orlando Magic] 88898.8876585554\n",
       "\\item[Golden State Warriors] 87413.0180373452\n",
       "\\item[Minnesota Timberwolves] 86649.3575392695\n",
       "\\item[San Antonio Spurs] 84908.7771131942\n",
       "\\item[Portland Trail Blazers] 84162.6407696086\n",
       "\\item[Houston Rockets] 82513.9601189975\n",
       "\\item[Sacramento Kings] 81895.3524800496\n",
       "\\item[Memphis Grizzlies] 80901.2596970622\n",
       "\\item[Phoenix Suns] 79741.6880092132\n",
       "\\item[Dallas Mavericks] 78689.609713861\n",
       "\\item[Los Angeles Lakers] 78106.9400997549\n",
       "\\item[Oklahoma City Thunder] 78004.532472809\n",
       "\\item[New Orleans Pelicans] 77235.0452195018\n",
       "\\item[Utah Jazz] 76250.5617452304\n",
       "\\item[Philadelphia 76ers] 75620.3841074576\n",
       "\\item[Los Angeles Clippers] 75281.2246144345\n",
       "\\item[Atlanta Hawks] 74646.7406899963\n",
       "\\item[Denver Nuggets] 74320.815159516\n",
       "\\item[Charlotte Hornets] 74156.5834878511\n",
       "\\item[New York Knicks] 73635.4347897638\n",
       "\\item[Chicago Bulls] 71553.1539265964\n",
       "\\item[Toronto Raptors] 71370.7537846694\n",
       "\\item[Milwaukee Bucks] 71173.3079974254\n",
       "\\item[Brooklyn Nets] 69089.2339753818\n",
       "\\item[Detroit Pistons] 68647.6981426709\n",
       "\\item[Indiana Pacers] 66332.2533917296\n",
       "\\item[Cleveland Cavaliers] 65417.5979489366\n",
       "\\end{description*}\n"
      ],
      "text/markdown": [
       "Washington Wizards\n",
       ":   162390.79249428Miami Heat\n",
       ":   90774.723034815Boston Celtics\n",
       ":   89905.2014179597Orlando Magic\n",
       ":   88898.8876585554Golden State Warriors\n",
       ":   87413.0180373452Minnesota Timberwolves\n",
       ":   86649.3575392695San Antonio Spurs\n",
       ":   84908.7771131942Portland Trail Blazers\n",
       ":   84162.6407696086Houston Rockets\n",
       ":   82513.9601189975Sacramento Kings\n",
       ":   81895.3524800496Memphis Grizzlies\n",
       ":   80901.2596970622Phoenix Suns\n",
       ":   79741.6880092132Dallas Mavericks\n",
       ":   78689.609713861Los Angeles Lakers\n",
       ":   78106.9400997549Oklahoma City Thunder\n",
       ":   78004.532472809New Orleans Pelicans\n",
       ":   77235.0452195018Utah Jazz\n",
       ":   76250.5617452304Philadelphia 76ers\n",
       ":   75620.3841074576Los Angeles Clippers\n",
       ":   75281.2246144345Atlanta Hawks\n",
       ":   74646.7406899963Denver Nuggets\n",
       ":   74320.815159516Charlotte Hornets\n",
       ":   74156.5834878511New York Knicks\n",
       ":   73635.4347897638Chicago Bulls\n",
       ":   71553.1539265964Toronto Raptors\n",
       ":   71370.7537846694Milwaukee Bucks\n",
       ":   71173.3079974254Brooklyn Nets\n",
       ":   69089.2339753818Detroit Pistons\n",
       ":   68647.6981426709Indiana Pacers\n",
       ":   66332.2533917296Cleveland Cavaliers\n",
       ":   65417.5979489366\n",
       "\n"
      ],
      "text/plain": [
       "    Washington Wizards             Miami Heat         Boston Celtics \n",
       "             162390.79               90774.72               89905.20 \n",
       "         Orlando Magic  Golden State Warriors Minnesota Timberwolves \n",
       "              88898.89               87413.02               86649.36 \n",
       "     San Antonio Spurs Portland Trail Blazers        Houston Rockets \n",
       "              84908.78               84162.64               82513.96 \n",
       "      Sacramento Kings      Memphis Grizzlies           Phoenix Suns \n",
       "              81895.35               80901.26               79741.69 \n",
       "      Dallas Mavericks     Los Angeles Lakers  Oklahoma City Thunder \n",
       "              78689.61               78106.94               78004.53 \n",
       "  New Orleans Pelicans              Utah Jazz     Philadelphia 76ers \n",
       "              77235.05               76250.56               75620.38 \n",
       "  Los Angeles Clippers          Atlanta Hawks         Denver Nuggets \n",
       "              75281.22               74646.74               74320.82 \n",
       "     Charlotte Hornets        New York Knicks          Chicago Bulls \n",
       "              74156.58               73635.43               71553.15 \n",
       "       Toronto Raptors        Milwaukee Bucks          Brooklyn Nets \n",
       "              71370.75               71173.31               69089.23 \n",
       "       Detroit Pistons         Indiana Pacers    Cleveland Cavaliers \n",
       "              68647.70               66332.25               65417.60 "
      ]
     },
     "metadata": {},
     "output_type": "display_data"
    }
   ],
   "source": [
    "total_distance_by_team[order(total_distance_by_team,decreasing=TRUE)]"
   ]
  },
  {
   "cell_type": "code",
   "execution_count": 141,
   "metadata": {
    "collapsed": false,
    "deletable": true,
    "editable": true
   },
   "outputs": [
    {
     "data": {
      "image/png": "[encoded data removed]",
      "text/plain": [
       "plot without title"
      ]
     },
     "metadata": {},
     "output_type": "display_data"
    }
   ],
   "source": [
    "barplot(total_distance_by_team)"
   ]
  },
  {
   "cell_type": "code",
   "execution_count": 2,
   "metadata": {
    "collapsed": false,
    "deletable": true,
    "editable": true
   },
   "outputs": [
    {
     "data": {
      "text/html": [
       "<iframe src=\"plotlyJupyterHTML/9681c97c42dd31c3a84f7b52200601c5.html\" width=\"100%\" height=\"400\" id=\"igraph\" scrolling=\"no\" seamless=\"seamless\" frameBorder=\"0\"> </iframe>"
      ]
     },
     "metadata": {},
     "output_type": "display_data"
    }
   ],
   "source": [
    "library(plotly)\n",
    "set.seed(100)\n",
    "d <- diamonds[sample(nrow(diamonds), 1000), ]\n",
    "myPlot <- plot_ly(d, x = carat, y = price, text = paste(\"Clarity: \", clarity),\n",
    "        mode = \"markers\", color = carat, size = carat)\n",
    "embed_notebook(myPlot)"
   ]
  }
 ],
 "metadata": {
  "kernelspec": {
   "display_name": "R",
   "language": "R",
   "name": "ir"
  },
  "language_info": {
   "codemirror_mode": "r",
   "file_extension": ".r",
   "mimetype": "text/x-r-source",
   "name": "R",
   "pygments_lexer": "r",
   "version": "3.3.2"
  }
 },
 "nbformat": 4,
 "nbformat_minor": 2
}
